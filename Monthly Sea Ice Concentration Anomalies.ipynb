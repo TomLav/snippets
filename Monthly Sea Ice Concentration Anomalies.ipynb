{
 "cells": [
  {
   "cell_type": "markdown",
   "id": "0a565264",
   "metadata": {},
   "source": [
    "## Compute monthly mean sea-ice concentration anomaly from EUMETSAT OSI SAF data\n",
    "\n",
    "We compute monthly mean anomaly from EUMETSAT OSI SAF SIC CDR v3 data. This uses xarray.\n",
    "\n",
    "**NB :** This software is for demonstration purpose only, it is not finalized for production."
   ]
  },
  {
   "cell_type": "code",
   "execution_count": 16,
   "id": "2724be23",
   "metadata": {},
   "outputs": [],
   "source": [
    "import os\n",
    "import xarray as xr\n",
    "\n",
    "from datetime import date, datetime, timedelta, time\n",
    "from dateutil import rrule, relativedelta\n",
    "\n",
    "import json\n",
    "import uuid\n",
    "from copy import copy\n",
    "import numpy as np"
   ]
  },
  {
   "cell_type": "markdown",
   "id": "7db3e79c",
   "metadata": {},
   "source": [
    "## Configure the run and load data"
   ]
  },
  {
   "cell_type": "code",
   "execution_count": 17,
   "id": "000192ad",
   "metadata": {},
   "outputs": [],
   "source": [
    "dt = date(2024,12,12)\n",
    "area = 'nh'\n",
    "climodir = '.'\n",
    "outdir = '.'\n",
    "indirs = 'osisaf_sic_cdr_storeB.json'\n",
    "\n",
    "# climo : years for the climatology. **Both ends are included**.\n",
    "climo = (1991, 2000)"
   ]
  },
  {
   "cell_type": "code",
   "execution_count": 18,
   "id": "462a1b46-75d7-4936-8bca-a75bf92a5f14",
   "metadata": {},
   "outputs": [],
   "source": [
    "# find the climatology file\n",
    "climof = os.path.join(climodir,'./ice_conc_{}_ease2-250_climatology-v3p0_{}-{}.nc'.format(area, str(climo[0]), str(climo[1])))\n",
    "climo_ds = xr.open_dataset(climof)\n",
    "climo_dso = xr.open_dataset(climof, mask_and_scale=False, decode_times=False) "
   ]
  },
  {
   "cell_type": "code",
   "execution_count": 24,
   "id": "59061b92",
   "metadata": {},
   "outputs": [],
   "source": [
    "# input monthly SIC files\n",
    "fn_patt = 'ice_conc_{a:}_ease2-250_{c:}_{d:%Y%m}.nc'\n",
    "fn_patt_src = {'cdr': 'cdr-v3p0', 'icdr': 'icdr-v3p0', 'icdrft': 'icdrft-v3p0'}\n",
    "\n",
    "if indirs is None:\n",
    "    inpdir_cdr = 'https://thredds.met.no/thredds/dodsC/osisaf/met.no/reprocessed/ice/conc_450a_files/monthly/'\n",
    "    inpdir_icdr = 'https://thredds.met.no/thredds/dodsC/osisaf/met.no/reprocessed/ice/conc_cra_files/monthly/'\n",
    "    # access through THREDDS/OpenDAP\n",
    "    sources = {'cdr':inpdir_cdr,\n",
    "              'icdr':inpdir_icdr,\n",
    "              'icdrft':inpdir_icdr}\n",
    "    jsond = json.dumps(sources, sort_keys=True, indent=4)\n",
    "else:\n",
    "    # load json file with path to input directories (if the daily SIC files are downloaded to a local disk)\n",
    "    # an example json file (prepare_monthly_osisaf_sic_opendap.json) is provided to demonstrate the format\n",
    "    #   expected for the json file (but the effect will be the same as setting indirs to None: read from\n",
    "    #   THREDDS/opendap)\n",
    "    with open(indirs, 'r') as f:\n",
    "        sources = json.load(f)\n",
    "        for s in sources.keys():\n",
    "            sources[s] += '/monthly/'"
   ]
  },
  {
   "cell_type": "code",
   "execution_count": 25,
   "id": "6ff91ac7",
   "metadata": {},
   "outputs": [],
   "source": [
    "def find_one_monthly_sic_file(dt, area):\n",
    "    \n",
    "    found_one_file = False\n",
    "    for cdr in ('cdr', 'icdr', 'icdrft'):\n",
    "        fn = fn_patt.format(a=area, d=dt, c=fn_patt_src[cdr])\n",
    "        fn = os.path.join(sources[cdr],'{:%Y/}'.format(dt),fn)\n",
    "        try:\n",
    "            # this url exists, append it and move to next date\n",
    "            ds = xr.open_dataset(fn)\n",
    "            found_one_file = True\n",
    "            return fn, cdr\n",
    "        except OSError:\n",
    "            # no valid file at this url, check the next rule\n",
    "            # print(\"Failed with pattern {}\".format(fn))\n",
    "            pass\n",
    "        \n",
    "    # no file found. Add a warning (but we can continue)\n",
    "    if not found_one_file:\n",
    "        print(\"WARNING: could not find OSI SAF SIC v3 file for {} {}\".format(area, dt))\n",
    "        return None, None\n",
    "\n"
   ]
  },
  {
   "cell_type": "markdown",
   "id": "2b2105ae",
   "metadata": {},
   "source": [
    "## Compute anomaly"
   ]
  },
  {
   "cell_type": "code",
   "execution_count": 26,
   "id": "cbdb63ae",
   "metadata": {},
   "outputs": [],
   "source": [
    "# A routine to reconstruct the unfiltered, unthresholded SICs from a OSI SAF SIC CDR file\n",
    "def reconstruct_sic(ds):\n",
    "    ice_conc = ds['ice_conc'].to_masked_array()\n",
    "    raw_ice_conc_values = ds['raw_ice_conc_values'].to_masked_array()\n",
    "    status_flag = ds['status_flag'].to_masked_array().astype('short')\n",
    "    \n",
    "    # combine ice_conc with raw_ice_conc_values using the status_flag\n",
    "    new_ice_conc = copy(ice_conc)\n",
    "    raw_100_mask = np.array((ice_conc==100) * (~raw_ice_conc_values.mask))\n",
    "    new_ice_conc[raw_100_mask] = raw_ice_conc_values[raw_100_mask]\n",
    "    \n",
    "    new_ice_conc[(status_flag & 4) == 4] = raw_ice_conc_values[(status_flag & 4) == 4]\n",
    "\n",
    "    # re-enter \"full\" ice_conc into the xarray dataset\n",
    "    ds['ice_conc'][:] = new_ice_conc\n",
    "    return ds"
   ]
  },
  {
   "cell_type": "code",
   "execution_count": 27,
   "id": "63deff8d",
   "metadata": {},
   "outputs": [
    {
     "name": "stdout",
     "output_type": "stream",
     "text": [
      "/lustre/storeB/project/copernicus/osisaf/data/reprocessed/ice/conc-cont-reproc/v3p0//monthly/2024/ice_conc_nh_ease2-250_icdr-v3p0_202412.nc\n"
     ]
    }
   ],
   "source": [
    "fn, src = find_one_monthly_sic_file(dt, area)\n",
    "\n",
    "if fn is None:\n",
    "    raise ValueError(\"Found no file for target month.\")\n",
    "\n",
    "print(fn)\n",
    "\n",
    "# read monthly mean field\n",
    "month_ds = xr.open_dataset(fn, engine='netcdf4')\n",
    "month_ds = reconstruct_sic(month_ds)\n",
    "\n",
    "# also open the monthly file without CF-decoding to extract information like dtype, _FillValue, time units, etc...\n",
    "dso = xr.open_dataset(fn, mask_and_scale=False, decode_times=False)"
   ]
  },
  {
   "cell_type": "code",
   "execution_count": 28,
   "id": "e13de0bd-00b6-4d0c-a72d-504ca526ffa2",
   "metadata": {},
   "outputs": [],
   "source": [
    "# it is an error to mix time units between the monthly mean and the climatology\n",
    "if dso['time'].attrs['units'] != climo_dso['time'].attrs['units']:\n",
    "    raise ValueError(\"The time units of the monthly and climatology files differ. This is going to be an issue.\")"
   ]
  },
  {
   "cell_type": "code",
   "execution_count": 29,
   "id": "d64a7c83",
   "metadata": {},
   "outputs": [],
   "source": [
    "# transfer xc and yc bounds from the climatology file\n",
    "#   (these should be in the monthly file)\n",
    "for ac in ('xc', 'yc'):\n",
    "    acbnds = ac + '_bnds'\n",
    "    month_ds[acbnds] = climo_ds[acbnds]\n",
    "    month_ds[ac].attrs['bounds'] = acbnds"
   ]
  },
  {
   "cell_type": "code",
   "execution_count": 30,
   "id": "df7c9df4",
   "metadata": {},
   "outputs": [
    {
     "name": "stdout",
     "output_type": "stream",
     "text": [
      "<xarray.DataArray 'climatological_time' ()> Size: 8B\n",
      "array('1996-12-16T00:00:00.000000000', dtype='datetime64[ns]')\n",
      "Attributes:\n",
      "    standard_name:  reference_epoch\n",
      "    bounds:         climatological_time_bnds\n",
      "['1991-12-01T00:00:00.000000000' '2001-01-01T00:00:00.000000000']\n"
     ]
    }
   ],
   "source": [
    "# compute anomaly against climatology\n",
    "month_climato = climo_ds['ice_conc_mean'].isel(time=dt.month-1)\n",
    "month_ds['ice_conc_anomaly'] = month_ds['ice_conc'] - month_climato\n",
    "\n",
    "# adjust attributes\n",
    "climo_n = 'climatological_time'\n",
    "month_ds['ice_conc_anomaly'].attrs['standard_name'] = 'sea_ice_area_fraction_anomaly'\n",
    "month_ds['ice_conc_anomaly'].attrs['long_name'] = 'Anomaly of monthly mean sea-ice concentration'\n",
    "month_ds['ice_conc_anomaly'].attrs['grid_mapping'] = 'Lambert_Azimuthal_Grid'\n",
    "month_ds['ice_conc_anomaly'].attrs['coordinates'] = climo_n + ' lat lon'\n",
    "month_ds['ice_conc_anomaly'].attrs['cell_methods'] = \"time: mean\"\n",
    "month_ds['ice_conc_anomaly'].attrs['comment'] = 'This is the anomaly for mean {:%B %Y} wrt the climatological mean of {:%B} {}-{}'.format(dt, dt,\n",
    "                                                                                str(climo[0]), str(climo[1]))\n",
    "\n",
    "# add the climatological_time variable and its bounds\n",
    "climo_nb = climo_n + '_bnds'\n",
    "month_ds[climo_n] = xr.DataArray(climo_ds['time'][dt.month-1].values)\n",
    "month_ds[climo_n].attrs['standard_name'] = 'reference_epoch'\n",
    "month_ds[climo_n].attrs['bounds'] = climo_nb\n",
    "\n",
    "month_ds[climo_nb] = xr.DataArray(climo_ds['climatology_bnds'][dt.month-1,:].values, dims=['nv',])\n",
    "\n",
    "print(month_ds[climo_n])\n",
    "print(month_ds[climo_nb].values)"
   ]
  },
  {
   "cell_type": "markdown",
   "id": "4f44b744-ea21-45e0-bc4a-f5a29c4261ab",
   "metadata": {},
   "source": [
    "## Write to netCDF/CF"
   ]
  },
  {
   "cell_type": "code",
   "execution_count": 31,
   "id": "1f5d502f-cbee-46e0-bf26-40c49aa9b727",
   "metadata": {},
   "outputs": [
    {
     "name": "stdout",
     "output_type": "stream",
     "text": [
      "<xarray.Dataset> Size: 3MB\n",
      "Dimensions:                   (time: 1, xc: 432, yc: 432, nv: 2)\n",
      "Coordinates:\n",
      "  * time                      (time) datetime64[ns] 8B 2024-12-16T12:00:00\n",
      "  * xc                        (xc) float64 3kB -5.388e+03 ... 5.388e+03\n",
      "  * yc                        (yc) float64 3kB 5.388e+03 ... -5.388e+03\n",
      "    lat                       (yc, xc) float32 746kB ...\n",
      "    lon                       (yc, xc) float32 746kB ...\n",
      "Dimensions without coordinates: nv\n",
      "Data variables:\n",
      "    Lambert_Azimuthal_Grid    int32 4B ...\n",
      "    time_bnds                 (time, nv) datetime64[ns] 16B ...\n",
      "    xc_bnds                   (xc, nv) float64 7kB ...\n",
      "    yc_bnds                   (yc, nv) float64 7kB ...\n",
      "    ice_conc_anomaly          (time, yc, xc) float64 1MB 0.0 0.0 0.0 ... nan nan\n",
      "    climatological_time       datetime64[ns] 8B 1996-12-16\n",
      "    climatological_time_bnds  (nv) datetime64[ns] 16B 1991-12-01 2001-01-01\n",
      "Attributes: (12/38)\n",
      "    title:                     Monthly Interim Sea Ice Concentration Climate ...\n",
      "    summary:                   This Interim Climate Data Record implements an...\n",
      "    topiccategory:             Oceans ClimatologyMeteorologyAtmosphere\n",
      "    keywords:                  GCMDSK:Earth Science > Cryosphere > Sea Ice > ...\n",
      "    keywords_vocabulary:       GCMDSK:GCMD Science Keywords:https://gcmd.eart...\n",
      "    geospatial_lat_min:        16.62393\n",
      "    ...                        ...\n",
      "    contributor_role:          PrincipalInvestigator,author,author,author,aut...\n",
      "    product_version:           3.0\n",
      "    tracking_id:               9112035c-9678-4bb5-a907-39c03fa49854\n",
      "    Conventions:               CF-1.7,ACDD-1.3\n",
      "    standard_name_vocabulary:  CF Standard Name Table (Version 78, 21 Septemb...\n",
      "    product_status:            under development\n"
     ]
    }
   ],
   "source": [
    "# clean the data structure\n",
    "month_ds = month_ds.drop_vars(('ice_conc', 'raw_ice_conc_values', 'status_flag'))\n",
    "\n",
    "# udpate some attributes\n",
    "now = datetime.utcnow().replace(microsecond=0)\n",
    "month_ds.attrs['history'] = now.isoformat()+'Z' + ' creation'\n",
    "month_ds.attrs['date_created'] = now.date().isoformat()\n",
    "\n",
    "month_ds.attrs['tracking_id'] = str(uuid.uuid4())\n",
    "month_ds.attrs['product_status'] = 'under development'\n",
    "\n",
    "# clean some attributes\n",
    "del month_ds.attrs['doi']\n",
    "del month_ds.attrs['naming_authority']\n",
    "del month_ds.attrs['product_id']\n",
    "del month_ds.attrs['product_name']\n",
    "del month_ds.attrs['algorithm']\n",
    "\n",
    "print(month_ds)"
   ]
  },
  {
   "cell_type": "code",
   "execution_count": 35,
   "id": "92010267-ad22-4ce8-bf79-ce0c712b149f",
   "metadata": {},
   "outputs": [
    {
     "name": "stdout",
     "output_type": "stream",
     "text": [
      "<xarray.Dataset> Size: 3MB\n",
      "Dimensions:                   (time: 1, nv: 2, xc: 432, yc: 432)\n",
      "Coordinates:\n",
      "  * time                      (time) datetime64[ns] 8B 2024-12-16T12:00:00\n",
      "  * xc                        (xc) float64 3kB -5.388e+03 ... 5.388e+03\n",
      "  * yc                        (yc) float64 3kB 5.388e+03 ... -5.388e+03\n",
      "    lon                       (yc, xc) float32 746kB -135.0 -135.1 ... 45.0\n",
      "    lat                       (yc, xc) float32 746kB 16.62 16.82 ... 16.82 16.62\n",
      "Dimensions without coordinates: nv\n",
      "Data variables:\n",
      "    Lambert_Azimuthal_Grid    int32 4B ...\n",
      "    time_bnds                 (time, nv) datetime64[ns] 16B ...\n",
      "    climatological_time       datetime64[ns] 8B 1996-12-16\n",
      "    climatological_time_bnds  (nv) datetime64[ns] 16B 1991-12-01 2001-01-01\n",
      "    xc_bnds                   (xc, nv) float64 7kB ...\n",
      "    yc_bnds                   (yc, nv) float64 7kB ...\n",
      "    ice_conc_anomaly          (time, yc, xc) float64 1MB 0.0 0.0 0.0 ... nan nan\n",
      "Attributes: (12/38)\n",
      "    title:                     Monthly Interim Sea Ice Concentration Climate ...\n",
      "    summary:                   This Interim Climate Data Record implements an...\n",
      "    topiccategory:             Oceans ClimatologyMeteorologyAtmosphere\n",
      "    keywords:                  GCMDSK:Earth Science > Cryosphere > Sea Ice > ...\n",
      "    keywords_vocabulary:       GCMDSK:GCMD Science Keywords:https://gcmd.eart...\n",
      "    geospatial_lat_min:        16.62393\n",
      "    ...                        ...\n",
      "    contributor_role:          PrincipalInvestigator,author,author,author,aut...\n",
      "    product_version:           3.0\n",
      "    tracking_id:               9112035c-9678-4bb5-a907-39c03fa49854\n",
      "    Conventions:               CF-1.7,ACDD-1.3\n",
      "    standard_name_vocabulary:  CF Standard Name Table (Version 78, 21 Septemb...\n",
      "    product_status:            under development\n",
      "\n",
      "<xarray.DataArray 'time' (time: 1)> Size: 8B\n",
      "array(['2024-12-16T12:00:00.000000000'], dtype='datetime64[ns]')\n",
      "Coordinates:\n",
      "  * time     (time) datetime64[ns] 8B 2024-12-16T12:00:00\n",
      "Attributes:\n",
      "    long_name:      reference time of product\n",
      "    standard_name:  time\n",
      "    axis:           T\n",
      "    bounds:         time_bnds\n",
      "\n",
      "<xarray.DataArray 'time_bnds' (time: 1, nv: 2)> Size: 16B\n",
      "[2 values with dtype=datetime64[ns]]\n",
      "Coordinates:\n",
      "  * time     (time) datetime64[ns] 8B 2024-12-16T12:00:00\n",
      "Dimensions without coordinates: nv\n",
      "\n",
      "<xarray.DataArray 'climatological_time' ()> Size: 8B\n",
      "array('1996-12-16T00:00:00.000000000', dtype='datetime64[ns]')\n",
      "Attributes:\n",
      "    standard_name:  reference_epoch\n",
      "    bounds:         climatological_time_bnds\n",
      "\n",
      "<xarray.DataArray 'climatological_time_bnds' (nv: 2)> Size: 16B\n",
      "array(['1991-12-01T00:00:00.000000000', '2001-01-01T00:00:00.000000000'],\n",
      "      dtype='datetime64[ns]')\n",
      "Dimensions without coordinates: nv\n",
      "{'time': {'dtype': dtype('float64'), 'units': 'seconds since 1978-01-01', 'calendar': 'standard', '_FillValue': None}, 'time_bnds': {'dtype': dtype('float64'), 'units': 'seconds since 1978-01-01', 'calendar': 'standard', '_FillValue': None}, 'climatological_time': {'dtype': dtype('float64'), 'units': 'seconds since 1978-01-01', 'calendar': 'standard', '_FillValue': None}, 'climatological_time_bnds': {'dtype': dtype('float64'), 'units': 'seconds since 1978-01-01', 'calendar': 'standard', '_FillValue': None}, 'lat': {'_FillValue': None}, 'lon': {'_FillValue': None}, 'xc': {'_FillValue': None}, 'yc': {'_FillValue': None}, 'xc_bnds': {'_FillValue': None}, 'yc_bnds': {'_FillValue': None}, 'Lambert_Azimuthal_Grid': {'_FillValue': None, 'dtype': dtype('int32')}, 'ice_conc_anomaly': {'dtype': <class 'numpy.float32'>, '_FillValue': -999.0}}\n"
     ]
    }
   ],
   "source": [
    "# encoding\n",
    "encoding = {'time': {'dtype':dso['time'].dtype, 'units':dso['time'].units, 'calendar':dso['time'].calendar,'_FillValue':None},\n",
    "            'time_bnds': {'dtype':dso['time'].dtype, 'units':dso['time'].units, 'calendar':dso['time'].calendar, '_FillValue':None},\n",
    "             climo_n: {'dtype':dso['time'].dtype, 'units':dso['time'].units, 'calendar':dso['time'].calendar, '_FillValue':None},\n",
    "             climo_nb: {'dtype':dso['time'].dtype, 'units':dso['time'].units, 'calendar':dso['time'].calendar, '_FillValue':None},\n",
    "            'lat': {'_FillValue':None}, 'lon': {'_FillValue':None},\n",
    "            'xc': {'_FillValue':None}, 'yc': {'_FillValue':None},\n",
    "            'xc_bnds': {'_FillValue':None}, 'yc_bnds': {'_FillValue':None},\n",
    "            'Lambert_Azimuthal_Grid': {'_FillValue':None, 'dtype':dso['Lambert_Azimuthal_Grid'].dtype}\n",
    "           }\n",
    "_vars = []\n",
    "for v in month_ds.variables:\n",
    "    if v.startswith('ice_conc_'):\n",
    "        encoding[v] = {'dtype':np.float32, '_FillValue':np.float32(-999.)}\n",
    "        _vars.append(v)\n",
    "\n",
    "# reorder the variables in the dataset before writing to disk.\n",
    "ordered_variables = ['Lambert_Azimuthal_Grid', 'time', 'time_bnds', climo_n, climo_nb, \n",
    "                     'xc', 'yc', 'xc_bnds', 'yc_bnds', 'lat', 'lon',] + _vars\n",
    "if len(ordered_variables) != len(month_ds.variables):\n",
    "    raise ValueError(\"Missing some variables!\")\n",
    "\n",
    "month_ds_2 = xr.Dataset({var_name: month_ds[var_name] for var_name in ordered_variables}, attrs=month_ds.attrs)\n",
    "print(month_ds_2)\n",
    "\n",
    "print()\n",
    "print(month_ds_2['time'])\n",
    "print()\n",
    "print(month_ds_2['time_bnds'])\n",
    "print()\n",
    "print(month_ds_2[climo_n])\n",
    "print()\n",
    "print(month_ds_2[climo_nb])\n",
    "\n",
    "print(encoding)"
   ]
  },
  {
   "cell_type": "code",
   "execution_count": 33,
   "id": "030e771b-23f7-4850-bf0a-42273845f0e4",
   "metadata": {},
   "outputs": [
    {
     "name": "stdout",
     "output_type": "stream",
     "text": [
      "./ice_conc_nh_ease2-250_anomaly-v3p0_202412_1991-2000.nc is ready.\n"
     ]
    }
   ],
   "source": [
    "# write to netCDF/CF\n",
    "\n",
    "## Note : this filename is still just a proposal\n",
    "outname = './ice_conc_{}_ease2-250_anomaly-v3p0_{:%Y%m}_{}-{}.nc'.format(area, dt, climo[0], climo[1])\n",
    "\n",
    "month_ds_2.to_netcdf(outname, encoding=encoding)\n",
    "\n",
    "print(outname, \"is ready.\")"
   ]
  },
  {
   "cell_type": "markdown",
   "id": "dacf67ae-d2ff-4a66-8f54-68e19ef0cc5b",
   "metadata": {},
   "source": [
    "## Visualization "
   ]
  },
  {
   "cell_type": "code",
   "execution_count": 14,
   "id": "78698e3b",
   "metadata": {},
   "outputs": [
    {
     "ename": "KeyError",
     "evalue": "\"No variable named 'ice_conc'. Variables on the dataset include ['time', 'Lambert_Azimuthal_Grid', 'xc', 'yc', 'time_bnds', ..., 'xc_bnds', 'yc_bnds', 'ice_conc_anomaly', 'climatological_time', 'climatological_time_bnds']\"",
     "output_type": "error",
     "traceback": [
      "\u001b[0;31m---------------------------------------------------------------------------\u001b[0m",
      "\u001b[0;31mKeyError\u001b[0m                                  Traceback (most recent call last)",
      "\u001b[0;32m~/mambaforge/envs/py311/lib/python3.11/site-packages/xarray/core/dataset.py\u001b[0m in \u001b[0;36m?\u001b[0;34m(self, name)\u001b[0m\n\u001b[1;32m   1474\u001b[0m             \u001b[0mvariable\u001b[0m \u001b[0;34m=\u001b[0m \u001b[0mself\u001b[0m\u001b[0;34m.\u001b[0m\u001b[0m_variables\u001b[0m\u001b[0;34m[\u001b[0m\u001b[0mname\u001b[0m\u001b[0;34m]\u001b[0m\u001b[0;34m\u001b[0m\u001b[0;34m\u001b[0m\u001b[0m\n\u001b[1;32m   1475\u001b[0m         \u001b[0;32mexcept\u001b[0m \u001b[0mKeyError\u001b[0m\u001b[0;34m:\u001b[0m\u001b[0;34m\u001b[0m\u001b[0;34m\u001b[0m\u001b[0m\n\u001b[0;32m-> 1476\u001b[0;31m             \u001b[0m_\u001b[0m\u001b[0;34m,\u001b[0m \u001b[0mname\u001b[0m\u001b[0;34m,\u001b[0m \u001b[0mvariable\u001b[0m \u001b[0;34m=\u001b[0m \u001b[0m_get_virtual_variable\u001b[0m\u001b[0;34m(\u001b[0m\u001b[0mself\u001b[0m\u001b[0;34m.\u001b[0m\u001b[0m_variables\u001b[0m\u001b[0;34m,\u001b[0m \u001b[0mname\u001b[0m\u001b[0;34m,\u001b[0m \u001b[0mself\u001b[0m\u001b[0;34m.\u001b[0m\u001b[0msizes\u001b[0m\u001b[0;34m)\u001b[0m\u001b[0;34m\u001b[0m\u001b[0;34m\u001b[0m\u001b[0m\n\u001b[0m\u001b[1;32m   1477\u001b[0m \u001b[0;34m\u001b[0m\u001b[0m\n",
      "\u001b[0;31mKeyError\u001b[0m: 'ice_conc'",
      "\nDuring handling of the above exception, another exception occurred:\n",
      "\u001b[0;31mKeyError\u001b[0m                                  Traceback (most recent call last)",
      "\u001b[0;32m~/mambaforge/envs/py311/lib/python3.11/site-packages/xarray/core/dataset.py\u001b[0m in \u001b[0;36m?\u001b[0;34m(self, key)\u001b[0m\n\u001b[1;32m   1573\u001b[0m                 \u001b[0;32mreturn\u001b[0m \u001b[0mself\u001b[0m\u001b[0;34m.\u001b[0m\u001b[0m_construct_dataarray\u001b[0m\u001b[0;34m(\u001b[0m\u001b[0mkey\u001b[0m\u001b[0;34m)\u001b[0m\u001b[0;34m\u001b[0m\u001b[0;34m\u001b[0m\u001b[0m\n\u001b[1;32m   1574\u001b[0m             \u001b[0;32mexcept\u001b[0m \u001b[0mKeyError\u001b[0m \u001b[0;32mas\u001b[0m \u001b[0me\u001b[0m\u001b[0;34m:\u001b[0m\u001b[0;34m\u001b[0m\u001b[0;34m\u001b[0m\u001b[0m\n\u001b[0;32m-> 1575\u001b[0;31m                 raise KeyError(\n\u001b[0m\u001b[1;32m   1576\u001b[0m                     \u001b[0;34mf\"No variable named {key!r}. Variables on the dataset include {shorten_list_repr(list(self.variables.keys()), max_items=10)}\"\u001b[0m\u001b[0;34m\u001b[0m\u001b[0;34m\u001b[0m\u001b[0m\n",
      "\u001b[0;32m~/mambaforge/envs/py311/lib/python3.11/site-packages/xarray/core/dataset.py\u001b[0m in \u001b[0;36m?\u001b[0;34m(self, name)\u001b[0m\n\u001b[1;32m   1474\u001b[0m             \u001b[0mvariable\u001b[0m \u001b[0;34m=\u001b[0m \u001b[0mself\u001b[0m\u001b[0;34m.\u001b[0m\u001b[0m_variables\u001b[0m\u001b[0;34m[\u001b[0m\u001b[0mname\u001b[0m\u001b[0;34m]\u001b[0m\u001b[0;34m\u001b[0m\u001b[0;34m\u001b[0m\u001b[0m\n\u001b[1;32m   1475\u001b[0m         \u001b[0;32mexcept\u001b[0m \u001b[0mKeyError\u001b[0m\u001b[0;34m:\u001b[0m\u001b[0;34m\u001b[0m\u001b[0;34m\u001b[0m\u001b[0m\n\u001b[0;32m-> 1476\u001b[0;31m             \u001b[0m_\u001b[0m\u001b[0;34m,\u001b[0m \u001b[0mname\u001b[0m\u001b[0;34m,\u001b[0m \u001b[0mvariable\u001b[0m \u001b[0;34m=\u001b[0m \u001b[0m_get_virtual_variable\u001b[0m\u001b[0;34m(\u001b[0m\u001b[0mself\u001b[0m\u001b[0;34m.\u001b[0m\u001b[0m_variables\u001b[0m\u001b[0;34m,\u001b[0m \u001b[0mname\u001b[0m\u001b[0;34m,\u001b[0m \u001b[0mself\u001b[0m\u001b[0;34m.\u001b[0m\u001b[0msizes\u001b[0m\u001b[0;34m)\u001b[0m\u001b[0;34m\u001b[0m\u001b[0;34m\u001b[0m\u001b[0m\n\u001b[0m\u001b[1;32m   1477\u001b[0m \u001b[0;34m\u001b[0m\u001b[0m\n",
      "\u001b[0;32m~/mambaforge/envs/py311/lib/python3.11/site-packages/xarray/core/dataset.py\u001b[0m in \u001b[0;36m?\u001b[0;34m(variables, key, dim_sizes)\u001b[0m\n\u001b[1;32m    207\u001b[0m     \u001b[0msplit_key\u001b[0m \u001b[0;34m=\u001b[0m \u001b[0mkey\u001b[0m\u001b[0;34m.\u001b[0m\u001b[0msplit\u001b[0m\u001b[0;34m(\u001b[0m\u001b[0;34m\".\"\u001b[0m\u001b[0;34m,\u001b[0m \u001b[0;36m1\u001b[0m\u001b[0;34m)\u001b[0m\u001b[0;34m\u001b[0m\u001b[0;34m\u001b[0m\u001b[0m\n\u001b[1;32m    208\u001b[0m     \u001b[0;32mif\u001b[0m \u001b[0mlen\u001b[0m\u001b[0;34m(\u001b[0m\u001b[0msplit_key\u001b[0m\u001b[0;34m)\u001b[0m \u001b[0;34m!=\u001b[0m \u001b[0;36m2\u001b[0m\u001b[0;34m:\u001b[0m\u001b[0;34m\u001b[0m\u001b[0;34m\u001b[0m\u001b[0m\n\u001b[0;32m--> 209\u001b[0;31m         \u001b[0;32mraise\u001b[0m \u001b[0mKeyError\u001b[0m\u001b[0;34m(\u001b[0m\u001b[0mkey\u001b[0m\u001b[0;34m)\u001b[0m\u001b[0;34m\u001b[0m\u001b[0;34m\u001b[0m\u001b[0m\n\u001b[0m\u001b[1;32m    210\u001b[0m \u001b[0;34m\u001b[0m\u001b[0m\n",
      "\u001b[0;31mKeyError\u001b[0m: 'ice_conc'",
      "\nThe above exception was the direct cause of the following exception:\n",
      "\u001b[0;31mKeyError\u001b[0m                                  Traceback (most recent call last)",
      "\u001b[0;32m/tmp/ipykernel_72459/3683937855.py\u001b[0m in \u001b[0;36m?\u001b[0;34m()\u001b[0m\n\u001b[1;32m      7\u001b[0m \u001b[0;34m\u001b[0m\u001b[0m\n\u001b[1;32m      8\u001b[0m \u001b[0mfig\u001b[0m\u001b[0;34m,\u001b[0m \u001b[0;34m(\u001b[0m\u001b[0max\u001b[0m\u001b[0;34m,\u001b[0m \u001b[0max1\u001b[0m\u001b[0;34m)\u001b[0m \u001b[0;34m=\u001b[0m \u001b[0mplt\u001b[0m\u001b[0;34m.\u001b[0m\u001b[0msubplots\u001b[0m\u001b[0;34m(\u001b[0m\u001b[0mncols\u001b[0m\u001b[0;34m=\u001b[0m\u001b[0;36m2\u001b[0m\u001b[0;34m,\u001b[0m \u001b[0mfigsize\u001b[0m\u001b[0;34m=\u001b[0m\u001b[0;34m(\u001b[0m\u001b[0;36m16\u001b[0m\u001b[0;34m,\u001b[0m\u001b[0;36m8\u001b[0m\u001b[0;34m)\u001b[0m\u001b[0;34m)\u001b[0m\u001b[0;34m\u001b[0m\u001b[0;34m\u001b[0m\u001b[0m\n\u001b[1;32m      9\u001b[0m \u001b[0;34m\u001b[0m\u001b[0m\n\u001b[1;32m     10\u001b[0m \u001b[0;31m# Monthly mean SIC + median climatological ice edge\u001b[0m\u001b[0;34m\u001b[0m\u001b[0;34m\u001b[0m\u001b[0m\n\u001b[0;32m---> 11\u001b[0;31m cols = ax.imshow(month_ds['ice_conc'][0].to_masked_array(),\n\u001b[0m\u001b[1;32m     12\u001b[0m           interpolation='none', vmin=0, vmax=100, cmap=cmap)\n\u001b[1;32m     13\u001b[0m \u001b[0max\u001b[0m\u001b[0;34m.\u001b[0m\u001b[0mcontour\u001b[0m\u001b[0;34m(\u001b[0m\u001b[0mclimo_ds\u001b[0m\u001b[0;34m[\u001b[0m\u001b[0;34m'ice_conc_median'\u001b[0m\u001b[0;34m]\u001b[0m\u001b[0;34m.\u001b[0m\u001b[0misel\u001b[0m\u001b[0;34m(\u001b[0m\u001b[0mtime\u001b[0m\u001b[0;34m=\u001b[0m\u001b[0mdt\u001b[0m\u001b[0;34m.\u001b[0m\u001b[0mmonth\u001b[0m\u001b[0;34m-\u001b[0m\u001b[0;36m1\u001b[0m\u001b[0;34m)\u001b[0m\u001b[0;34m.\u001b[0m\u001b[0mto_masked_array\u001b[0m\u001b[0;34m(\u001b[0m\u001b[0;34m)\u001b[0m\u001b[0;34m,\u001b[0m \u001b[0mlevels\u001b[0m\u001b[0;34m=\u001b[0m\u001b[0;34m(\u001b[0m\u001b[0;36m15.\u001b[0m\u001b[0;34m,\u001b[0m\u001b[0;34m)\u001b[0m\u001b[0;34m,\u001b[0m \u001b[0mcolors\u001b[0m\u001b[0;34m=\u001b[0m\u001b[0;34m'coral'\u001b[0m\u001b[0;34m,\u001b[0m\u001b[0;34m)\u001b[0m\u001b[0;34m\u001b[0m\u001b[0;34m\u001b[0m\u001b[0m\n\u001b[1;32m     14\u001b[0m \u001b[0;34m\u001b[0m\u001b[0m\n",
      "\u001b[0;32m~/mambaforge/envs/py311/lib/python3.11/site-packages/xarray/core/dataset.py\u001b[0m in \u001b[0;36m?\u001b[0;34m(self, key)\u001b[0m\n\u001b[1;32m   1571\u001b[0m         \u001b[0;32mif\u001b[0m \u001b[0mutils\u001b[0m\u001b[0;34m.\u001b[0m\u001b[0mhashable\u001b[0m\u001b[0;34m(\u001b[0m\u001b[0mkey\u001b[0m\u001b[0;34m)\u001b[0m\u001b[0;34m:\u001b[0m\u001b[0;34m\u001b[0m\u001b[0;34m\u001b[0m\u001b[0m\n\u001b[1;32m   1572\u001b[0m             \u001b[0;32mtry\u001b[0m\u001b[0;34m:\u001b[0m\u001b[0;34m\u001b[0m\u001b[0;34m\u001b[0m\u001b[0m\n\u001b[1;32m   1573\u001b[0m                 \u001b[0;32mreturn\u001b[0m \u001b[0mself\u001b[0m\u001b[0;34m.\u001b[0m\u001b[0m_construct_dataarray\u001b[0m\u001b[0;34m(\u001b[0m\u001b[0mkey\u001b[0m\u001b[0;34m)\u001b[0m\u001b[0;34m\u001b[0m\u001b[0;34m\u001b[0m\u001b[0m\n\u001b[1;32m   1574\u001b[0m             \u001b[0;32mexcept\u001b[0m \u001b[0mKeyError\u001b[0m \u001b[0;32mas\u001b[0m \u001b[0me\u001b[0m\u001b[0;34m:\u001b[0m\u001b[0;34m\u001b[0m\u001b[0;34m\u001b[0m\u001b[0m\n\u001b[0;32m-> 1575\u001b[0;31m                 raise KeyError(\n\u001b[0m\u001b[1;32m   1576\u001b[0m                     \u001b[0;34mf\"No variable named {key!r}. Variables on the dataset include {shorten_list_repr(list(self.variables.keys()), max_items=10)}\"\u001b[0m\u001b[0;34m\u001b[0m\u001b[0;34m\u001b[0m\u001b[0m\n\u001b[1;32m   1577\u001b[0m                 ) from e\n\u001b[1;32m   1578\u001b[0m \u001b[0;34m\u001b[0m\u001b[0m\n",
      "\u001b[0;31mKeyError\u001b[0m: \"No variable named 'ice_conc'. Variables on the dataset include ['time', 'Lambert_Azimuthal_Grid', 'xc', 'yc', 'time_bnds', ..., 'xc_bnds', 'yc_bnds', 'ice_conc_anomaly', 'climatological_time', 'climatological_time_bnds']\""
     ]
    },
    {
     "data": {
      "image/png": "[encoded data removed]",
      "text/plain": [
       "<Figure size 1600x800 with 2 Axes>"
      ]
     },
     "metadata": {},
     "output_type": "display_data"
    }
   ],
   "source": [
    "from matplotlib import pylab as plt\n",
    "from cmocean import cm\n",
    "from mpl_toolkits.axes_grid1.inset_locator import inset_axes\n",
    "\n",
    "cmap = copy(plt.colormaps['PuBu_r'])\n",
    "cmap.set_bad('grey')\n",
    "\n",
    "fig, (ax, ax1) = plt.subplots(ncols=2, figsize=(16,8))\n",
    "\n",
    "# Monthly mean SIC + median climatological ice edge\n",
    "cols = ax.imshow(month_ds['ice_conc'][0].to_masked_array(),\n",
    "          interpolation='none', vmin=0, vmax=100, cmap=cmap)\n",
    "ax.contour(climo_ds['ice_conc_median'].isel(time=dt.month-1).to_masked_array(), levels=(15.,), colors='coral',)\n",
    "\n",
    "ax.set_xticks([])\n",
    "ax.set_yticks([])\n",
    "ax.text(0.01,0.99,'Monthly Mean SIC {:%B %Y}'.format(dt,), va='top', transform=ax.transAxes, color='white')\n",
    "ax.text(0.01,0.95,'{d:%B} {c1:}-{c2:} Median Edge'.format(d=dt, c1=str(climo[0]), c2=str(climo[1])),\n",
    "        va='top', transform=ax.transAxes, color='coral')\n",
    "ax.text(1.01,0.01,'EUMETSAT OSI SAF data with R&D from ESA CCI', rotation=90, ha='left', va='bottom', transform=ax.transAxes)\n",
    "ax.text(0.01,0.01,'Source: OSI SAF SIC CDR+ICDR v3', fontsize=12, va='bottom', transform=ax.transAxes, color='white')\n",
    "\n",
    "cbaxes = inset_axes(ax, width=\"32%\", height=\"3%\", loc=3, borderpad=0,\n",
    "                    bbox_to_anchor=(0.06, 0.1, 1, 1),\n",
    "                    bbox_transform=ax.transAxes)\n",
    "cbar = plt.colorbar(cols, cax=cbaxes, orientation=\"horizontal\",)\n",
    "cbar.ax.set_title('Sea Ice Concentration [%]',fontsize=8,color='w')\n",
    "cbar.ax.tick_params(labelsize=9,colors='w')\n",
    "\n",
    "# Monthly anomaly\n",
    "cmap = copy(cm.balance_r)\n",
    "cmap.set_bad('grey')\n",
    "\n",
    "cols = ax1.imshow(month_ds['ice_conc_anom'][0].to_masked_array(),\n",
    "          interpolation='none', vmin=-100, vmax=100, cmap=cmap)\n",
    "\n",
    "ax1.set_xticks([])\n",
    "ax1.set_yticks([])\n",
    "ax1.text(0.01,0.99,'Anomaly {:%B %Y} wrt {}-{}'.format(dt, *climo), va='top', transform=ax1.transAxes)\n",
    "ax1.text(1.01,0.01,'EUMETSAT OSI SAF data with R&D from ESA CCI', rotation=90, ha='left', va='bottom', transform=ax1.transAxes)\n",
    "ax1.text(0.01,0.01,'Source: OSI SAF SIC CDR+ICDR v3', fontsize=12, va='bottom', transform=ax1.transAxes, color='k')\n",
    "\n",
    "cbaxes = inset_axes(ax1, width=\"32%\", height=\"3%\", loc=3, borderpad=0,\n",
    "                    bbox_to_anchor=(0.06, 0.1, 1, 1),\n",
    "                    bbox_transform=ax1.transAxes)\n",
    "cbar = plt.colorbar(cols, cax=cbaxes, orientation=\"horizontal\",)\n",
    "cbar.ax.set_title('Anomaly [%]',fontsize=8,color='k')\n",
    "cbar.ax.tick_params(labelsize=9,colors='k')\n",
    "\n",
    "plt.show()"
   ]
  },
  {
   "cell_type": "code",
   "execution_count": null,
   "id": "7d5c1c89",
   "metadata": {},
   "outputs": [],
   "source": []
  }
 ],
 "metadata": {
  "kernelspec": {
   "display_name": "Python 3 (ipykernel)",
   "language": "python",
   "name": "python3"
  },
  "language_info": {
   "codemirror_mode": {
    "name": "ipython",
    "version": 3
   },
   "file_extension": ".py",
   "mimetype": "text/x-python",
   "name": "python",
   "nbconvert_exporter": "python",
   "pygments_lexer": "ipython3",
   "version": "3.11.9"
  }
 },
 "nbformat": 4,
 "nbformat_minor": 5
}
