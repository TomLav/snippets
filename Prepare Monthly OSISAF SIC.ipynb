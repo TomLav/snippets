{
 "cells": [
  {
   "cell_type": "markdown",
   "id": "0d221da9",
   "metadata": {},
   "source": [
    "# Compute monthly SIC fields from OSI SAF data"
   ]
  },
  {
   "cell_type": "code",
   "execution_count": 1,
   "id": "7f878704",
   "metadata": {},
   "outputs": [],
   "source": [
    "import os\n",
    "import xarray as xr\n",
    "import numpy as np\n",
    "from datetime import date, datetime, timedelta, time\n",
    "from dateutil import rrule, relativedelta\n",
    "import uuid\n",
    "from copy import copy\n",
    "\n",
    "from matplotlib import pylab as plt\n",
    "from matplotlib import cm\n"
   ]
  },
  {
   "cell_type": "code",
   "execution_count": 2,
   "id": "7efd1b45",
   "metadata": {},
   "outputs": [],
   "source": [
    "dt = date(2005,1,12)\n",
    "area = 'sh'"
   ]
  },
  {
   "cell_type": "markdown",
   "id": "733be5ad",
   "metadata": {},
   "source": [
    "### Find all SIC files for a month"
   ]
  },
  {
   "cell_type": "code",
   "execution_count": 3,
   "id": "f6e47af3",
   "metadata": {},
   "outputs": [
    {
     "name": "stdout",
     "output_type": "stream",
     "text": [
      "['https://thredds.met.no/thredds/dodsC/osisaf/met.no/reprocessed/ice/conc_450a_files/2005/01/ice_conc_sh_ease2-250_cdr-v3p0_200501011200.nc', 'https://thredds.met.no/thredds/dodsC/osisaf/met.no/reprocessed/ice/conc_450a_files/2005/01/ice_conc_sh_ease2-250_cdr-v3p0_200501021200.nc', 'https://thredds.met.no/thredds/dodsC/osisaf/met.no/reprocessed/ice/conc_450a_files/2005/01/ice_conc_sh_ease2-250_cdr-v3p0_200501031200.nc', 'https://thredds.met.no/thredds/dodsC/osisaf/met.no/reprocessed/ice/conc_450a_files/2005/01/ice_conc_sh_ease2-250_cdr-v3p0_200501041200.nc', 'https://thredds.met.no/thredds/dodsC/osisaf/met.no/reprocessed/ice/conc_450a_files/2005/01/ice_conc_sh_ease2-250_cdr-v3p0_200501051200.nc', 'https://thredds.met.no/thredds/dodsC/osisaf/met.no/reprocessed/ice/conc_450a_files/2005/01/ice_conc_sh_ease2-250_cdr-v3p0_200501061200.nc', 'https://thredds.met.no/thredds/dodsC/osisaf/met.no/reprocessed/ice/conc_450a_files/2005/01/ice_conc_sh_ease2-250_cdr-v3p0_200501071200.nc', 'https://thredds.met.no/thredds/dodsC/osisaf/met.no/reprocessed/ice/conc_450a_files/2005/01/ice_conc_sh_ease2-250_cdr-v3p0_200501081200.nc', 'https://thredds.met.no/thredds/dodsC/osisaf/met.no/reprocessed/ice/conc_450a_files/2005/01/ice_conc_sh_ease2-250_cdr-v3p0_200501091200.nc', 'https://thredds.met.no/thredds/dodsC/osisaf/met.no/reprocessed/ice/conc_450a_files/2005/01/ice_conc_sh_ease2-250_cdr-v3p0_200501101200.nc', 'https://thredds.met.no/thredds/dodsC/osisaf/met.no/reprocessed/ice/conc_450a_files/2005/01/ice_conc_sh_ease2-250_cdr-v3p0_200501111200.nc', 'https://thredds.met.no/thredds/dodsC/osisaf/met.no/reprocessed/ice/conc_450a_files/2005/01/ice_conc_sh_ease2-250_cdr-v3p0_200501121200.nc', 'https://thredds.met.no/thredds/dodsC/osisaf/met.no/reprocessed/ice/conc_450a_files/2005/01/ice_conc_sh_ease2-250_cdr-v3p0_200501131200.nc', 'https://thredds.met.no/thredds/dodsC/osisaf/met.no/reprocessed/ice/conc_450a_files/2005/01/ice_conc_sh_ease2-250_cdr-v3p0_200501141200.nc', 'https://thredds.met.no/thredds/dodsC/osisaf/met.no/reprocessed/ice/conc_450a_files/2005/01/ice_conc_sh_ease2-250_cdr-v3p0_200501151200.nc', 'https://thredds.met.no/thredds/dodsC/osisaf/met.no/reprocessed/ice/conc_450a_files/2005/01/ice_conc_sh_ease2-250_cdr-v3p0_200501161200.nc', 'https://thredds.met.no/thredds/dodsC/osisaf/met.no/reprocessed/ice/conc_450a_files/2005/01/ice_conc_sh_ease2-250_cdr-v3p0_200501171200.nc', 'https://thredds.met.no/thredds/dodsC/osisaf/met.no/reprocessed/ice/conc_450a_files/2005/01/ice_conc_sh_ease2-250_cdr-v3p0_200501181200.nc', 'https://thredds.met.no/thredds/dodsC/osisaf/met.no/reprocessed/ice/conc_450a_files/2005/01/ice_conc_sh_ease2-250_cdr-v3p0_200501191200.nc', 'https://thredds.met.no/thredds/dodsC/osisaf/met.no/reprocessed/ice/conc_450a_files/2005/01/ice_conc_sh_ease2-250_cdr-v3p0_200501201200.nc', 'https://thredds.met.no/thredds/dodsC/osisaf/met.no/reprocessed/ice/conc_450a_files/2005/01/ice_conc_sh_ease2-250_cdr-v3p0_200501211200.nc', 'https://thredds.met.no/thredds/dodsC/osisaf/met.no/reprocessed/ice/conc_450a_files/2005/01/ice_conc_sh_ease2-250_cdr-v3p0_200501221200.nc', 'https://thredds.met.no/thredds/dodsC/osisaf/met.no/reprocessed/ice/conc_450a_files/2005/01/ice_conc_sh_ease2-250_cdr-v3p0_200501231200.nc', 'https://thredds.met.no/thredds/dodsC/osisaf/met.no/reprocessed/ice/conc_450a_files/2005/01/ice_conc_sh_ease2-250_cdr-v3p0_200501241200.nc', 'https://thredds.met.no/thredds/dodsC/osisaf/met.no/reprocessed/ice/conc_450a_files/2005/01/ice_conc_sh_ease2-250_cdr-v3p0_200501251200.nc', 'https://thredds.met.no/thredds/dodsC/osisaf/met.no/reprocessed/ice/conc_450a_files/2005/01/ice_conc_sh_ease2-250_cdr-v3p0_200501261200.nc', 'https://thredds.met.no/thredds/dodsC/osisaf/met.no/reprocessed/ice/conc_450a_files/2005/01/ice_conc_sh_ease2-250_cdr-v3p0_200501271200.nc', 'https://thredds.met.no/thredds/dodsC/osisaf/met.no/reprocessed/ice/conc_450a_files/2005/01/ice_conc_sh_ease2-250_cdr-v3p0_200501281200.nc', 'https://thredds.met.no/thredds/dodsC/osisaf/met.no/reprocessed/ice/conc_450a_files/2005/01/ice_conc_sh_ease2-250_cdr-v3p0_200501291200.nc', 'https://thredds.met.no/thredds/dodsC/osisaf/met.no/reprocessed/ice/conc_450a_files/2005/01/ice_conc_sh_ease2-250_cdr-v3p0_200501301200.nc', 'https://thredds.met.no/thredds/dodsC/osisaf/met.no/reprocessed/ice/conc_450a_files/2005/01/ice_conc_sh_ease2-250_cdr-v3p0_200501311200.nc']\n",
      "['cdr', 'cdr', 'cdr', 'cdr', 'cdr', 'cdr', 'cdr', 'cdr', 'cdr', 'cdr', 'cdr', 'cdr', 'cdr', 'cdr', 'cdr', 'cdr', 'cdr', 'cdr', 'cdr', 'cdr', 'cdr', 'cdr', 'cdr', 'cdr', 'cdr', 'cdr', 'cdr', 'cdr', 'cdr', 'cdr', 'cdr']\n"
     ]
    }
   ],
   "source": [
    "sources = {'cdr':('https://thredds.met.no/thredds/dodsC/osisaf/met.no/reprocessed/ice/conc_450a_files/',\n",
    "                'cdr-v3p0'),\n",
    "            'icdr':('https://thredds.met.no/thredds/dodsC/osisaf/met.no/reprocessed/ice/conc_cra_files/',\n",
    "                'icdr-v3p0'),\n",
    "            'icdrft':('https://thredds.met.no/thredds/dodsC/osisaf/met.no/reprocessed/ice/conc_cra_files/',\n",
    "                'icdrft-v3p0')}\n",
    "fn_patt = 'ice_conc_{a:}_ease2-250_{c:}_{d:%Y%m%d}1200.nc'\n",
    "\n",
    "def get_first_last_date(dt):\n",
    "    first_day = date(dt.year,dt.month,1)\n",
    "    last_day = first_day + relativedelta.relativedelta(months=1)-timedelta(days=1)\n",
    "    return first_day, last_day\n",
    "\n",
    "def find_sic_files(dt, area):\n",
    "\n",
    "    files = []\n",
    "    srcs = []\n",
    "    # iterate over all days in the month\n",
    "    first_day, last_day = get_first_last_date(dt)\n",
    "    for d in rrule.rrule(rrule.DAILY, dtstart=first_day,\n",
    "                                        until=last_day):\n",
    "        # find the path/url to the file. There are precedence rules for what type of files\n",
    "        #   to select.\n",
    "        found_one_file = False\n",
    "        for cdr in sources.keys():\n",
    "            fn = fn_patt.format(a=area, d=d, c=sources[cdr][1])\n",
    "            fn = os.path.join(sources[cdr][0],'{:%Y/%m/}'.format(d),fn)\n",
    "            try:\n",
    "                # this url exists, append it and move to next date\n",
    "                ds = xr.open_dataset(fn)\n",
    "                found_one_file = True\n",
    "                files.append(fn)\n",
    "                srcs.append(cdr)\n",
    "                continue\n",
    "            except OSError:\n",
    "                # no valid file at this url, check the next rule\n",
    "                pass\n",
    "        \n",
    "        # no file found. Add a warning (but we can continue)\n",
    "        if not found_one_file:\n",
    "            print(\"WARNING: could not find OSI SAF SIC v3 file for {} {}\".format(area, d.date()))\n",
    "        \n",
    "    return files, srcs\n",
    "\n",
    "files, srcs = find_sic_files(dt, area)\n",
    "print(files)\n",
    "print(srcs)"
   ]
  },
  {
   "cell_type": "markdown",
   "id": "843df824",
   "metadata": {},
   "source": [
    "### Open access to all the files"
   ]
  },
  {
   "cell_type": "code",
   "execution_count": null,
   "id": "ffa4ca2f",
   "metadata": {},
   "outputs": [],
   "source": [
    "ds = xr.open_mfdataset(files,)\n",
    "print(ds)"
   ]
  },
  {
   "cell_type": "markdown",
   "id": "682dcadd",
   "metadata": {},
   "source": [
    "### Compute monthly average SIC\n",
    "\n",
    "This requires re-combining the filtered SIC in 'ice_conc' with the unfiltered values in 'raw_ice_conc_values'. We use the 'status_flag' variable."
   ]
  },
  {
   "cell_type": "code",
   "execution_count": null,
   "id": "0b2a053f",
   "metadata": {},
   "outputs": [],
   "source": [
    "ice_conc = ds['ice_conc'].to_masked_array()\n",
    "raw_ice_conc_values = ds['raw_ice_conc_values'].to_masked_array()\n",
    "status_flag = ds['status_flag'].to_masked_array().astype('short')\n",
    "\n",
    "# combine ice_conc with raw_ice_conc_values using the status_flag\n",
    "ice_conc[ice_conc==100] = raw_ice_conc_values[ice_conc==100]\n",
    "ice_conc[(status_flag & 4) == 4] = raw_ice_conc_values[(status_flag & 4) == 4]\n",
    "\n",
    "# re-enter ice_conc into the xarray dataset\n",
    "ds['ice_conc'][:] = ice_conc"
   ]
  },
  {
   "cell_type": "markdown",
   "id": "79ebc2c1",
   "metadata": {},
   "source": [
    "Use xarray to compute the mean over time (now that we replaced the ice_conc)"
   ]
  },
  {
   "cell_type": "code",
   "execution_count": null,
   "id": "4dd86c29",
   "metadata": {},
   "outputs": [],
   "source": [
    "ds_month = ds.mean(dim=\"time\", keep_attrs=True)\n",
    "ds_month"
   ]
  },
  {
   "cell_type": "markdown",
   "id": "3c52eb20",
   "metadata": {},
   "source": [
    "Re-arrange SIC values into 'ice_conc' and 'raw_ice_conc_values'"
   ]
  },
  {
   "cell_type": "code",
   "execution_count": null,
   "id": "72fe8a14",
   "metadata": {},
   "outputs": [],
   "source": [
    "ice_conc = ds_month['ice_conc'].to_masked_array()\n",
    "raw_ice_conc_values = np.ma.array(np.zeros_like(ice_conc).astype(ice_conc.dtype),\n",
    "                                  mask=np.ones_like(ice_conc).astype('bool'))\n",
    "index = ice_conc>100\n",
    "raw_ice_conc_values[index] = ice_conc[index]\n",
    "ice_conc[index] = 100\n",
    "\n",
    "index = ice_conc<10\n",
    "raw_ice_conc_values[index] = ice_conc[index]\n",
    "ice_conc[index] = 0\n",
    "\n",
    "# store raw_ice_conc_values in the xarray structure\n",
    "ds_month['raw_ice_conc_values'][:] = raw_ice_conc_values"
   ]
  },
  {
   "cell_type": "markdown",
   "id": "c08846f8",
   "metadata": {},
   "source": [
    "Prepare a simplified 'status_flag' variable. We only keep '1' (land) and '128' (climatology). The rest we set to '0' (nominal). "
   ]
  },
  {
   "cell_type": "code",
   "execution_count": null,
   "id": "9f3f6ebe",
   "metadata": {},
   "outputs": [],
   "source": [
    "status_flag = ds_month['status_flag'].to_masked_array().astype('short')\n",
    "index = (status_flag != 1)*(status_flag != 128)\n",
    "status_flag[index] = 0\n",
    "ds_month['status_flag'][:] = status_flag"
   ]
  },
  {
   "cell_type": "markdown",
   "id": "4f217552",
   "metadata": {},
   "source": [
    "### Clean the xarray dataset structure and write to file"
   ]
  },
  {
   "cell_type": "code",
   "execution_count": null,
   "id": "fb2f9d0a",
   "metadata": {},
   "outputs": [],
   "source": [
    "ds_month = ds_month.drop_vars( ('total_standard_uncertainty', 'smearing_standard_uncertainty', 'algorithm_standard_uncertainty',) )"
   ]
  },
  {
   "cell_type": "markdown",
   "id": "ccf810ec",
   "metadata": {},
   "source": [
    "The filename should reflect what type of daily SIC files were used as input. If only 'cdr' files were used, the monthly file should have 'cdr'. If only 'icdr' files were used, the monthly files should have 'icdr'. If some fast-track ICDR files ('icdrft') were used, this should also be in the name of the monthly file."
   ]
  },
  {
   "cell_type": "code",
   "execution_count": null,
   "id": "2bdf47af",
   "metadata": {
    "scrolled": true
   },
   "outputs": [],
   "source": [
    "# Amend some attributes\n",
    "first_day, last_day = get_first_last_date(dt)\n",
    "ds_month.attrs['time_coverage_start'] = datetime.combine(first_day, time()).isoformat()+'Z'\n",
    "ds_month.attrs['time_coverage_end'] = (datetime.combine(last_day,time())+timedelta(days=1)).isoformat()+'Z'\n",
    "\n",
    "ds_month.attrs['time_coverage_duration'] = 'P1M'\n",
    "ds_month.attrs['time_coverage_resolution'] = 'P1M'\n",
    "\n",
    "now = datetime.utcnow().replace(microsecond=0)\n",
    "ds_month.attrs['history'] = now.isoformat()+'Z' + ' creation'\n",
    "ds_month.attrs['date_created'] = now.date().isoformat()\n",
    "\n",
    "ds_month.attrs['tracking_id'] = str(uuid.uuid4())\n",
    "\n",
    "ds_month.attrs['title'] = 'Monthly ' + ds_month.attrs['title']"
   ]
  },
  {
   "cell_type": "code",
   "execution_count": null,
   "id": "224b5fde",
   "metadata": {},
   "outputs": [],
   "source": [
    "# Open one of the original files to extract information like dtype, _FillValue, time units, etc...\n",
    "dso = xr.open_dataset(files[0],mask_and_scale=False,decode_times=False)\n",
    "dso\n",
    "\n"
   ]
  },
  {
   "cell_type": "markdown",
   "id": "91dd2aab",
   "metadata": {},
   "source": [
    "Add 'time' dimension and coordinate variable (the 16th of the month).\n",
    "\n",
    "In addition, add the 'time_bnds' variable, which requires the 'nv' dimension. time_bnds[0] gets the first day of the month (0 utc), time_bnds[1] gets the first day of the following month (0 utc).\n",
    "\n",
    "This turned out to be a bit messy, suggestions for improvements are welcome."
   ]
  },
  {
   "cell_type": "code",
   "execution_count": null,
   "id": "93bf5d9d",
   "metadata": {},
   "outputs": [],
   "source": [
    "# Prepare the time_bnds variable [start, end] and it as a data variable to the dataset.\n",
    "time_bnds = [np.datetime64(ds_month.attrs['time_coverage_start'][:-1]),np.datetime64(ds_month.attrs['time_coverage_end'][:-1])]\n",
    "time_bnds_da = xr.DataArray(time_bnds, [('nv', time_bnds,)])\n",
    "\n",
    "# For some reasons, ds.assign brings a coordinate variable 'nv' that we must remove.\n",
    "ds_month = ds_month.assign(time_bnds=time_bnds_da)\n",
    "ds_month = ds_month.drop(labels='nv')\n",
    "ds_month"
   ]
  },
  {
   "cell_type": "code",
   "execution_count": null,
   "id": "8406ef86",
   "metadata": {},
   "outputs": [],
   "source": [
    "# Prepare the time coordinate\n",
    "mid_time = [np.datetime64('{:%Y-%m-16 12:00:00}'.format(dt)),]\n",
    "mid_time_da = xr.DataArray(mid_time, [('time', mid_time,)])\n",
    "\n",
    "mid_time_da"
   ]
  },
  {
   "cell_type": "code",
   "execution_count": null,
   "id": "cf21246e",
   "metadata": {},
   "outputs": [],
   "source": [
    "# add the 'time' coordinate variable (and dimension) to the dataset object\n",
    "dst_month = ds_month.expand_dims(time=mid_time_da)\n",
    "\n",
    "# drop time dimension for the CRS (added by expand_dims)\n",
    "dst_month['Lambert_Azimuthal_Grid'] = dst_month['Lambert_Azimuthal_Grid'].squeeze(dim='time',drop=True)\n",
    "\n",
    "# assign original attributes, but not 'units' nor 'calendar' as these\n",
    "#   are re-introduced by xarray as encoding (not attributes) at time of\n",
    "#   writing to netCDF\n",
    "time_attrs = copy(dso.time.attrs)\n",
    "time_attrs.pop('units',None)\n",
    "time_attrs.pop('calendar',None)\n",
    "for k in list(time_attrs.keys()):\n",
    "    if k.startswith('_'):\n",
    "        time_attrs.pop(k, None)\n",
    "dst_month.time.attrs = time_attrs\n",
    "dst_month"
   ]
  },
  {
   "cell_type": "code",
   "execution_count": null,
   "id": "d598f6bc",
   "metadata": {},
   "outputs": [],
   "source": [
    "# uniqued list of daily CDR sources\n",
    "srcs = sorted(list(set(srcs)))\n",
    "\n",
    "# monthly file name (note the format of the datestring: YYYYMM.nc)\n",
    "fn_patt = 'ice_conc_{a:}_ease2-250_{c:}-v3p0_{d:%Y%m}.nc'\n",
    "fn = fn_patt.format(a=area, d=dt, c=srcs[-1])\n",
    "\n",
    "# encoding\n",
    "encoding = {'time': {'dtype':dso['time'].dtype, 'units':dso['time'].units, 'calendar':dso['time'].calendar,'_FillValue':None},\n",
    "            'time_bnds': {'dtype':dso['time_bnds'].dtype,'units':dso['time_bnds'].units,'_FillValue':None},\n",
    "            'ice_conc': {'dtype':dso['ice_conc'].dtype, 'scale_factor':dso['ice_conc'].scale_factor, '_FillValue':dso['ice_conc']._FillValue},\n",
    "            'raw_ice_conc_values': {'dtype':dso['raw_ice_conc_values'].dtype, 'scale_factor':dso['raw_ice_conc_values'].scale_factor, '_FillValue':dso['raw_ice_conc_values']._FillValue},\n",
    "            'status_flag': {'dtype':dso['status_flag'].dtype, '_FillValue':dso['status_flag']._FillValue},\n",
    "            'lat': {'_FillValue':None}, 'lon': {'_FillValue':None},\n",
    "            'xc': {'_FillValue':None}, 'yc': {'_FillValue':None},\n",
    "            'Lambert_Azimuthal_Grid': {'_FillValue':None}\n",
    "           }\n",
    "\n",
    "# save the monthly xarray dataset to file\n",
    "if os.path.exists(fn):\n",
    "    os.remove(fn)\n",
    "dst_month.to_netcdf(fn, encoding=encoding)\n",
    "\n",
    "print(fn + ' ready')"
   ]
  },
  {
   "cell_type": "code",
   "execution_count": null,
   "id": "1dbaa70e",
   "metadata": {},
   "outputs": [],
   "source": []
  },
  {
   "cell_type": "code",
   "execution_count": null,
   "id": "7d836e71",
   "metadata": {},
   "outputs": [],
   "source": []
  }
 ],
 "metadata": {
  "kernelspec": {
   "display_name": "Python 3 (ipykernel)",
   "language": "python",
   "name": "python3"
  },
  "language_info": {
   "codemirror_mode": {
    "name": "ipython",
    "version": 3
   },
   "file_extension": ".py",
   "mimetype": "text/x-python",
   "name": "python",
   "nbconvert_exporter": "python",
   "pygments_lexer": "ipython3",
   "version": "3.9.13"
  }
 },
 "nbformat": 4,
 "nbformat_minor": 5
}
