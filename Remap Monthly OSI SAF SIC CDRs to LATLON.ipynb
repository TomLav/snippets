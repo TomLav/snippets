{
 "cells": [
  {
   "cell_type": "markdown",
   "id": "16eb4c41",
   "metadata": {},
   "source": [
    "# Remap OSI SAF SIC CDR to LAT-LON grid\n",
    "\n",
    "This notebook demonstrate accessing monthly SIC CDR data from EUMETSAT OSI SAF reproject them to a simple global lat/lon grid. The remapping is based on Pytroll's pyresample. After remapping, a netCDF file is written.\n",
    "\n",
    "We implement the mapping in several steps to try and fill as many target grid cells as possible, yet not smearing the input field too much. The exact parameters for the remapping step will have to be adapted for the various target grids.\n",
    "\n",
    "This notebook is part of the preparation to submit the OSI SAF SIC CDR to Obs4MIPS, in support to CMIP7."
   ]
  },
  {
   "cell_type": "code",
   "execution_count": 111,
   "id": "01596a72",
   "metadata": {},
   "outputs": [],
   "source": [
    "import os\n",
    "import xarray as xr\n",
    "import numpy as np\n",
    "from datetime import date, datetime, timedelta, time\n",
    "from dateutil import rrule, relativedelta\n",
    "import uuid\n",
    "from copy import copy\n",
    "\n",
    "import pyresample as pr\n",
    "\n",
    "import json\n",
    "\n",
    "from matplotlib import pylab as plt\n",
    "from matplotlib import cm\n",
    "from cartopy import crs as ccrs, feature as cfeature"
   ]
  },
  {
   "cell_type": "markdown",
   "id": "46dbe549",
   "metadata": {},
   "source": [
    "## Configuration\n",
    "\n",
    "The next cell is a 'parameters' cell, to allow runs with papermill, e.g.\n",
    "\n",
    "`> papermill -r dt 20031203 -r area sh Remap\\ OSI\\ SAF\\ and\\ CCI\\ SIC\\ CDRs.ipynb Remap\\ OSI\\ SAF\\ and\\ CCI\\ SIC\\ CDRs_out.ipynb`\n",
    "\n",
    "`> papermill -r dt 20031203 -r area sh -r outdir /lustre/storeB/users/thomasl/THREDDS/SICs_4HCLIM/ Remap\\ OSI\\ SAF\\ and\\ CCI\\ SIC\\ CDRs.ipynb - > /dev/null`\n",
    "\n",
    "`loop_wrapper --cpu 5 20031201 20031231 'papermill -r dt {d:} -r area sh -r outdir /lustre/storeB/users/thomasl/THREDDS/SICs_4HCLIM Remap\\ OSI\\ SAF\\ and\\ CCI\\ SIC\\ CDRs.ipynb - > /dev/null'`"
   ]
  },
  {
   "cell_type": "code",
   "execution_count": 112,
   "id": "1984a7a1",
   "metadata": {
    "tags": [
     "parameters"
    ]
   },
   "outputs": [],
   "source": [
    "# date to be remapped\n",
    "dt = date(2010,12,1)\n",
    "outdir = '.'\n",
    "resol = 0.5"
   ]
  },
  {
   "cell_type": "code",
   "execution_count": 113,
   "id": "6ec87b8a",
   "metadata": {},
   "outputs": [],
   "source": [
    "# handle datestring format and conversion\n",
    "if not isinstance(dt, date):\n",
    "    if isinstance(dt,str):\n",
    "        if len(dt) == 6:\n",
    "            dt += '16'\n",
    "        if len(dt) != 8:\n",
    "            raise ValueError(\"Datestring should br YYYYMM or YYYYMMDD\")\n",
    "        try:\n",
    "            yyyy,mm,dd = int(dt[:4]),int(dt[4:6]),int(dt[6:8])\n",
    "            dt = date(yyyy,mm,dd)\n",
    "        except Exception:\n",
    "            raise ValueError('Invalid datestring {}'.format(dt))\n",
    "    \n",
    "# check outdir exists\n",
    "if not os.path.exists(outdir):\n",
    "    raise ValueError('Output directory does not exist ({})'.format(outdir))"
   ]
  },
  {
   "cell_type": "code",
   "execution_count": 114,
   "id": "de065f86",
   "metadata": {},
   "outputs": [],
   "source": [
    "# prioritization for input data source\n",
    "src_prioritized_list = ['osisaf-v3',]"
   ]
  },
  {
   "cell_type": "markdown",
   "id": "314583a7",
   "metadata": {},
   "source": [
    "## Define the target grid and land mask"
   ]
  },
  {
   "cell_type": "code",
   "execution_count": 115,
   "id": "273989bd",
   "metadata": {},
   "outputs": [
    {
     "name": "stderr",
     "output_type": "stream",
     "text": [
      "/home/thomasl/mambaforge/envs/py311/lib/python3.11/site-packages/pyresample/kd_tree.py:261: UserWarning: Possible more than 4 neighbours within 500.0 m for some data points\n",
      "  get_neighbour_info(source_geo_def,\n"
     ]
    },
    {
     "data": {
      "image/png": "[encoded data removed]",
      "text/plain": [
       "<Figure size 640x480 with 1 Axes>"
      ]
     },
     "metadata": {},
     "output_type": "display_data"
    },
    {
     "name": "stdout",
     "output_type": "stream",
     "text": [
      "(720, 2)\n",
      "(360, 2)\n"
     ]
    }
   ],
   "source": [
    "# LAND/OCEAN MASK\n",
    "#  we use an era5 lat/lon land mask\n",
    "lmask_file = '/home/thomasl/Downloads/era5_20240101.nc'\n",
    "\n",
    "lmask_latn = 'latitude'\n",
    "lmask_lonn = 'longitude'\n",
    "lmask_lsmn = 'lm'\n",
    "\n",
    "lmask_ds = xr.open_dataset(lmask_file)\n",
    "lmask_lon_1d = lmask_ds[lmask_lonn][:].to_numpy()\n",
    "lmask_lon_1d = pr.utils.wrap_longitudes(lmask_lon_1d)\n",
    "lmask_lat_1d = lmask_ds[lmask_latn][:].to_numpy()\n",
    "lmask_lon, lmask_lat = np.meshgrid(lmask_lon_1d, lmask_lat_1d)\n",
    "\n",
    "lmask_geom = pr.SwathDefinition(lmask_lon, lmask_lat)\n",
    "lmask_lsm = lmask_ds[lmask_lsmn][0,:].to_numpy().astype('bool')\n",
    "\n",
    "# TARGET grid\n",
    "trg_lon_1d = np.arange(-180.+resol*0.5, +180. , resol)\n",
    "trg_lat_1d = np.arange(-90.+resol*0.5, +90. , resol)\n",
    "trg_lon, trg_lat = np.meshgrid(trg_lon_1d, trg_lat_1d)\n",
    "\n",
    "trg_geom = pr.SwathDefinition(trg_lon, trg_lat)\n",
    "trg_lmask = pr.kd_tree.resample_gauss(lmask_geom, lmask_lsm, trg_geom,\n",
    "                                    radius_of_influence=resol*1000, sigmas=resol*1000, neighbours=4,fill_value=np.nan)\n",
    "\n",
    "lmask_t = 0.9\n",
    "trg_lmask = np.where(trg_lmask<lmask_t,0,1).astype('int')\n",
    "plt.imshow(trg_lmask, vmin=0, vmax=1, interpolation='none', origin='lower')\n",
    "plt.show()\n",
    "\n",
    "trg_lon_1d_bnds = np.column_stack((trg_lon_1d - 0.5*resol, trg_lon_1d + 0.5*resol))\n",
    "trg_lat_1d_bnds = np.column_stack((trg_lat_1d - 0.5*resol, trg_lat_1d + 0.5*resol))\n",
    "\n",
    "print(trg_lon_1d_bnds.shape)\n",
    "print(trg_lat_1d_bnds.shape)"
   ]
  },
  {
   "cell_type": "markdown",
   "id": "366a1330",
   "metadata": {},
   "source": [
    "## Locate the OSI SAF CDR file to use as source"
   ]
  },
  {
   "cell_type": "code",
   "execution_count": 116,
   "id": "36e121ec",
   "metadata": {},
   "outputs": [
    {
     "name": "stdout",
     "output_type": "stream",
     "text": [
      "https://thredds.met.no/thredds/dodsC/osisaf/met.no/reprocessed/ice/conc_450a_files/2010/12/ice_conc_nh_ease2-250_cdr-v3p0_201012011200.nc\n",
      "https://dap.ceda.ac.uk/thredds/dodsC/neodc/esacci/sea_ice/data/sea_ice_concentration/L4/ssmi_ssmis/12.5km/v3.0/SH/2010/12/ESACCI-SEAICE-L4-SICONC-RE_SSMI_12.5kmEASE2-SH-20101201-fv3.0.nc\n",
      "('https://thredds.met.no/thredds/dodsC/osisaf/met.no/reprocessed/ice/conc_450a_files/2010/12/ice_conc_sh_ease2-250_cdr-v3p0_201012011200.nc', 'osisaf-v3-cdr')\n",
      "Test  osisaf-v3-icdrft https://thredds.met.no/thredds/dodsC/osisaf/met.no/reprocessed/ice/conc_cra_files/2023/03/ice_conc_nh_ease2-250_icdrft-v3p0_202303311200.nc\n",
      "Test  osisaf-v3-icdr https://thredds.met.no/thredds/dodsC/osisaf/met.no/reprocessed/ice/conc_cra_files/2023/03/ice_conc_nh_ease2-250_icdr-v3p0_202303311200.nc\n",
      "('https://thredds.met.no/thredds/dodsC/osisaf/met.no/reprocessed/ice/conc_cra_files/2023/03/ice_conc_nh_ease2-250_icdr-v3p0_202303311200.nc', 'osisaf-v3-icdr')\n",
      "Test  osisaf-v3-icdrft https://thredds.met.no/thredds/dodsC/osisaf/met.no/reprocessed/ice/conc_cra_files/monthly/2023/ice_conc_sh_ease2-250_icdrft-v3p0_202303.nc\n",
      "Test  osisaf-v3-icdr https://thredds.met.no/thredds/dodsC/osisaf/met.no/reprocessed/ice/conc_cra_files/monthly/2023/ice_conc_sh_ease2-250_icdr-v3p0_202303.nc\n",
      "('https://thredds.met.no/thredds/dodsC/osisaf/met.no/reprocessed/ice/conc_cra_files/monthly/2023/ice_conc_sh_ease2-250_icdr-v3p0_202303.nc', 'osisaf-v3-icdr')\n"
     ]
    }
   ],
   "source": [
    "# A routine to reconstruct the unfiltered, unthresholded SICs from a OSI SAF SIC CDR file\n",
    "def reconstruct_sic(ds):\n",
    "    ice_conc = ds['ice_conc'].to_masked_array()\n",
    "    raw_ice_conc_values = ds['raw_ice_conc_values'].to_masked_array()\n",
    "    status_flag = ds['status_flag'].to_masked_array().astype('short')\n",
    "    \n",
    "    # combine ice_conc with raw_ice_conc_values using the status_flag\n",
    "    new_ice_conc = copy(ice_conc)\n",
    "    raw_100_mask = np.array((ice_conc==100) * (~raw_ice_conc_values.mask))\n",
    "    new_ice_conc[raw_100_mask] = raw_ice_conc_values[raw_100_mask]\n",
    "    \n",
    "    new_ice_conc[(status_flag & 4) == 4] = raw_ice_conc_values[(status_flag & 4) == 4]\n",
    "\n",
    "    # re-enter \"full\" ice_conc into the xarray dataset\n",
    "    ds['ice_conc'][:] = new_ice_conc\n",
    "    return ds\n",
    "\n",
    "def get_sic_filename(dt, area, cdr='osisaf-v3-cdr', monthly=False):\n",
    "\n",
    "    dt_str = '{:%Y%m%d}1200'.format(dt)\n",
    "    if monthly:\n",
    "        dt_str = '{:%Y%m}'.format(dt)\n",
    "    \n",
    "    if cdr == 'osisaf-v3-cdr':\n",
    "        fn = 'ice_conc_{a:}_ease2-250_cdr-v3p0_{d:}.nc'.format(a=area, d=dt_str)\n",
    "    elif cdr == 'osisaf-v3-cdr-patch':\n",
    "        fn = 'ice_conc_{a:}_ease2-250_cdr-v3p0-patch_{d:}.nc'.format(a=area, d=dt_str)\n",
    "    elif cdr == 'osisaf-v3-icdr':\n",
    "        fn = 'ice_conc_{a:}_ease2-250_icdr-v3p0_{d:}.nc'.format(a=area, d=dt_str)\n",
    "    elif cdr == 'osisaf-v3-icdrft':\n",
    "        fn = 'ice_conc_{a:}_ease2-250_icdrft-v3p0_{d:}.nc'.format(a=area, d=dt_str)\n",
    "    elif cdr == 'osisaf-v2':\n",
    "        fn = 'ice_conc_{a:}_ease2-250_cdr-v2p0_{d:}.nc'.format(a=area, d=dt_str)\n",
    "    elif cdr == 'osisaf-v3-amsr':\n",
    "        fn = 'ice_conc_{a:}_ease2-250_cdr-v3p0-amsr_{d:}.nc'.format(a=area, d=dt_str)\n",
    "    elif cdr == 'sicci-hr-sic':\n",
    "        fn = 'ESACCI-SEAICE-L4-SICONC-RE_SSMI_12.5kmEASE2-{a:}-{d:%Y%m%d}-fv3.0.nc'.format(a=area.upper(), d=dt)\n",
    "    else:\n",
    "        raise ValueError(\"Do not know about CDR '{}'\".format(cdr))\n",
    "    \n",
    "    return fn\n",
    "\n",
    "def get_sic_url(dt, area, cdr='osisaf-v3-cdr', monthly=False):\n",
    "    \n",
    "    fn = get_sic_filename(dt, area, cdr=cdr, monthly=monthly)\n",
    "    \n",
    "    if cdr == 'osisaf-v3-cdr':\n",
    "        url = 'https://thredds.met.no/thredds/dodsC/osisaf/met.no/reprocessed/ice/conc_450a_files'\n",
    "    elif cdr == 'osisaf-v3-cdr-patch':\n",
    "        url = 'https://thredds.met.no/thredds/dodsC/osisaf/met.no/reprocessed/ice/conc_450apatch_files'\n",
    "    elif cdr == 'osisaf-v3-icdr':\n",
    "        url = 'https://thredds.met.no/thredds/dodsC/osisaf/met.no/reprocessed/ice/conc_cra_files'\n",
    "    elif cdr == 'osisaf-v3-icdrft':\n",
    "        url = 'https://thredds.met.no/thredds/dodsC/osisaf/met.no/reprocessed/ice/conc_cra_files'\n",
    "    elif cdr == 'osisaf-v2-cdr':\n",
    "        url = 'https://thredds.met.no/thredds/dodsC/osisaf/met.no/reprocessed/ice/conc_v2p0_files'\n",
    "    elif cdr == 'osisaf-v3-amsr':\n",
    "        url = 'https://thredds.met.no/thredds/dodsC/osisaf/met.no/reprocessed/ice/conc_amsr_458_files'\n",
    "    elif cdr == 'sicci-hr-sic':\n",
    "        url = 'https://dap.ceda.ac.uk/thredds/dodsC/neodc/esacci/sea_ice/data/sea_ice_concentration/L4/ssmi_ssmis/12.5km/v3.0/{:}'.format(area.upper())\n",
    "    else:\n",
    "        raise ValueError(\"Do not know about CDR '{}'\".format(cdr))\n",
    "        \n",
    "    if cdr == 'osisaf-v3-cdr-patch':\n",
    "        url = os.path.join(url, fn)\n",
    "    elif monthly:\n",
    "        url = os.path.join(url, 'monthly', '{:%Y/}'.format(dt), fn)\n",
    "    else:\n",
    "        url = os.path.join(url,'{:%Y/%m/}'.format(dt), fn)\n",
    "    \n",
    "    return url\n",
    "\n",
    "def find_sic_file(dt, area, src_prioritized_list=('sicci-hr-sic', 'osisaf-v3',), verbose = False, monthly = False):\n",
    "    \n",
    "    # possibly extend the list of prioritized sources (e.g. 'osisaf-v3' calls for the ICDRs and the CDR)\n",
    "    ext_src_prioritized_list = []\n",
    "    for src in src_prioritized_list:\n",
    "        if src == 'osisaf-v3':\n",
    "            # this is calling for both the ICDRs and the CDR\n",
    "            ext_src_prioritized_list.append('osisaf-v3-icdrft')\n",
    "            ext_src_prioritized_list.append('osisaf-v3-icdr')\n",
    "            ext_src_prioritized_list.append('osisaf-v3-cdr-patch')\n",
    "            ext_src_prioritized_list.append('osisaf-v3-cdr')\n",
    "        else:\n",
    "            ext_src_prioritized_list.append(src)\n",
    "    \n",
    "    # find the path/url to the file. There are precedence rules for what type of files\n",
    "    #   to select.\n",
    "    fn = None\n",
    "    found_one_file = False\n",
    "    for src in ext_src_prioritized_list:\n",
    "        fn = get_sic_url(dt, area, cdr=src, monthly=monthly)\n",
    "        if verbose:\n",
    "            print(\"Test \", src, fn)\n",
    "        try:\n",
    "            # this url exists, append it and move to next date\n",
    "            ds = xr.open_dataset(fn)\n",
    "            found_one_file = True\n",
    "            break\n",
    "        except OSError:\n",
    "            # no valid file at this url, check the next source in the prioritized list\n",
    "            pass\n",
    "        \n",
    "    # no file found. Add a warning (but we can continue)\n",
    "    if not found_one_file:\n",
    "        fn = None\n",
    "        src = None\n",
    "        if verbose:\n",
    "            print(\"WARNING: could not find SIC CDR file for {} {}\".format(area, dt))\n",
    "            \n",
    "            \n",
    "    return fn, src\n",
    "\n",
    "print(get_sic_url(dt, 'nh'))\n",
    "print(get_sic_url(dt, 'sh', cdr='sicci-hr-sic'))\n",
    "print(find_sic_file(dt, 'sh', src_prioritized_list=src_prioritized_list))\n",
    "print(find_sic_file(date(2023,3,31), 'nh', src_prioritized_list=src_prioritized_list, verbose=True))\n",
    "print(find_sic_file(date(2023,3,31), 'sh', src_prioritized_list=src_prioritized_list, verbose=True,monthly=True))\n",
    "    "
   ]
  },
  {
   "cell_type": "markdown",
   "id": "9ce3c944",
   "metadata": {},
   "source": [
    "## Read the SIC and prepare the remapping"
   ]
  },
  {
   "cell_type": "code",
   "execution_count": 117,
   "id": "3d9a039f-572d-407a-a0d4-bcc048300267",
   "metadata": {},
   "outputs": [
    {
     "name": "stdout",
     "output_type": "stream",
     "text": [
      "Source file (osisaf-v3-cdr): https://thredds.met.no/thredds/dodsC/osisaf/met.no/reprocessed/ice/conc_450a_files/monthly/2010/ice_conc_nh_ease2-250_cdr-v3p0_201012.nc\n",
      "Source file (osisaf-v3-cdr): https://thredds.met.no/thredds/dodsC/osisaf/met.no/reprocessed/ice/conc_450a_files/monthly/2010/ice_conc_sh_ease2-250_cdr-v3p0_201012.nc\n"
     ]
    },
    {
     "data": {
      "image/png": "[encoded data removed]",
      "text/plain": [
       "<Figure size 640x480 with 1 Axes>"
      ]
     },
     "metadata": {},
     "output_type": "display_data"
    }
   ],
   "source": [
    "src_lats = []\n",
    "src_lons = []\n",
    "src_dats = []\n",
    "src_flgs = []\n",
    "src_files = []\n",
    "for area in ('nh', 'sh'):\n",
    "    src_file, src_id = find_sic_file(dt, area, src_prioritized_list=src_prioritized_list, monthly=True)\n",
    "    print(\"Source file ({}): {}\".format(src_id, src_file))\n",
    "    src_ds = xr.open_dataset(src_file)\n",
    "    src_ds = reconstruct_sic(src_ds)\n",
    "\n",
    "    src_lat = src_ds['lat'][:].to_numpy()\n",
    "    src_lon = src_ds['lon'][:].to_numpy()\n",
    "\n",
    "    # Prepare the source geometry for pyresample. It works best by removing masked values at runing to 1D\n",
    "    src_dat = src_ds['ice_conc'][0,:].to_masked_array()\n",
    "    src_flg = src_ds['status_flag'][0,:].to_numpy().astype('int16')\n",
    "\n",
    "    # store\n",
    "    src_lats.append(src_lat)\n",
    "    src_lons.append(src_lon)\n",
    "    src_dats.append(src_dat)\n",
    "    src_flgs.append(src_flg)\n",
    "    src_files.append(src_file)\n",
    "\n",
    "# 'concatenate' the NH and SH maps into one dataset\n",
    "src_lat = np.column_stack(src_lats)\n",
    "src_lon = np.column_stack(src_lons)\n",
    "src_dat = np.column_stack(src_dats)\n",
    "src_flg = np.column_stack(src_flgs)\n",
    "\n",
    "plt.imshow(src_dat, interpolation='none', vmin=0, vmax=100)\n",
    "plt.show()\n",
    "\n",
    "# remove climatological zeros (we will put them back after resampling)\n",
    "src_dat[src_flg==128] = np.ma.masked\n",
    "\n",
    "src_lon_dat = src_lon[~src_dat.mask]\n",
    "src_lat_dat = src_lat[~src_dat.mask]\n",
    "src_geom_dat = pr.SwathDefinition(src_lon_dat, src_lat_dat)\n",
    "\n",
    "# Prepare the data in the same 1D shape as the src lat/lon\n",
    "src_dat_1d = src_dat.compressed()\n",
    "\n",
    "# Prepare the resampling of the flag\n",
    "src_lon_flg = src_lon.flatten()\n",
    "src_lat_flg = src_lat.flatten()\n",
    "src_geom_flg = pr.SwathDefinition(src_lon_flg, src_lat_flg)\n",
    "src_flg_1d  = src_flg.flatten()"
   ]
  },
  {
   "cell_type": "markdown",
   "id": "b39ce8fa",
   "metadata": {},
   "source": [
    "## Perform the resampling from source to target geometry"
   ]
  },
  {
   "cell_type": "code",
   "execution_count": 118,
   "id": "e0907355",
   "metadata": {},
   "outputs": [],
   "source": [
    "# prepare the parameters to the first resampling\n",
    "roi = 50000\n",
    "sigma = 12500\n",
    "nbgh = 8\n",
    "if 'siccip-v3' in src_id:\n",
    "    roi /= 3\n",
    "    sigma /= 3"
   ]
  },
  {
   "cell_type": "code",
   "execution_count": 119,
   "id": "e9bc1daa",
   "metadata": {},
   "outputs": [
    {
     "name": "stderr",
     "output_type": "stream",
     "text": [
      "/home/thomasl/mambaforge/envs/py311/lib/python3.11/site-packages/pyresample/kd_tree.py:261: UserWarning: Possible more than 8 neighbours within 50000 m for some data points\n",
      "  get_neighbour_info(source_geo_def,\n"
     ]
    }
   ],
   "source": [
    "# Do a first remapping:\n",
    "#  we remap the SICs and specify an un-physical value for the fill_value, which will appear where\n",
    "#  target grid cells have no close-enough source values for the resampling. We will have to deal\n",
    "#  with these cells separately.\n",
    "fill_value = None\n",
    "trg_dat = pr.kd_tree.resample_gauss(src_geom_dat, src_dat_1d, trg_geom,\n",
    "                                    radius_of_influence=roi, sigmas=sigma, neighbours=nbgh,\n",
    "                                    fill_value=fill_value)\n",
    "\n",
    "trg_flg = pr.kd_tree.resample_nearest(src_geom_flg, src_flg_1d, trg_geom,\n",
    "                                    radius_of_influence=roi)\n",
    "\n",
    "trg_dat = np.ma.array(trg_dat)\n",
    "\n",
    "# apply the target land-sea mask\n",
    "trg_dat[trg_lmask] = np.ma.masked\n",
    "trg_flg[trg_lmask] = 1\n",
    "\n",
    "# apply the resampled max extent climatology\n",
    "trg_dat[trg_flg == 128] = 0\n",
    "\n",
    "# enforce climatology for cells of latitudes lower than 50\n",
    "enforce_clim = (abs(trg_lat)<50)*(trg_lmask==0)\n",
    "trg_dat[enforce_clim] = 0\n",
    "trg_flg[enforce_clim] = 128"
   ]
  },
  {
   "cell_type": "code",
   "execution_count": 120,
   "id": "f8716b3b",
   "metadata": {},
   "outputs": [
    {
     "name": "stdout",
     "output_type": "stream",
     "text": [
      "After 0 remappings, there are 0 gaps left.\n"
     ]
    }
   ],
   "source": [
    "# prepare the parameters to the second resampling\n",
    "roi = 75000\n",
    "sigma = 25000\n",
    "nbgh = 12\n",
    "\n",
    "# Do a second remapping:\n",
    "#   remap the remaining \"fill_value\" cells that are not over the target land (as given by trg_lsm)\n",
    "\n",
    "gapfill_iter = 0\n",
    "nb_fill_value = (trg_dat==fill_value).sum()\n",
    "while nb_fill_value > 0 and gapfill_iter < 10:\n",
    "    print(\"Iter {}: Attempt to fill {} gaps.\".format(gapfill_iter+1, nb_fill_value))\n",
    "    # define the gaps\n",
    "    trg_gaps = (trg_dat==fill_value)\n",
    "    trg_gaps_lat = trg_lat[trg_gaps]\n",
    "    trg_gaps_lon = trg_lon[trg_gaps]\n",
    "    trg_gaps_geom = pr.SwathDefinition(trg_gaps_lon, trg_gaps_lat)\n",
    "\n",
    "    # define the nogaps\n",
    "    trg_nogaps = (trg_dat!=fill_value).filled(False)\n",
    "    trg_nogaps_lat = trg_lat[trg_nogaps]\n",
    "    trg_nogaps_lon = trg_lon[trg_nogaps]\n",
    "    trg_nogaps_geom = pr.SwathDefinition(trg_nogaps_lon, trg_nogaps_lat)\n",
    "    trg_nogaps_data = trg_dat[trg_nogaps].compressed()\n",
    " \n",
    "    fig = plt.figure(figsize=(12,8))\n",
    "    ax = fig.add_subplot(1,3,1)\n",
    "    ax.imshow(np.ma.array(trg_gaps,mask=~trg_gaps), cmap=cm.coolwarm, vmin=-1, vmax=+1, interpolation='none')\n",
    "    ax.imshow(-1*np.ma.array(trg_nogaps,mask=~trg_nogaps), cmap=cm.coolwarm, vmin=-1, vmax=+1, interpolation='none')\n",
    "    ax.imshow(0*np.ma.array(trg_lsm,mask=~trg_lsm), cmap=cm.coolwarm, vmin=-1, vmax=+1, interpolation='none')\n",
    "    ax.set_title('GAPS (red) and NOGAPS (blue)')\n",
    "    ax = fig.add_subplot(1,3,2)\n",
    "    ax.imshow(trg_dat, interpolation='none', vmin=0, vmax=fill_value, cmap=cm.winter)\n",
    "    ax.set_title('BEFORE GAP FILLING')\n",
    "\n",
    "    \n",
    "    # do the remapping of no gaps to gaps\n",
    "    trg_gaps_dat = pr.kd_tree.resample_gauss(trg_nogaps_geom, trg_nogaps_data, trg_gaps_geom,\n",
    "                                        radius_of_influence=roi, sigmas=sigma, neighbours=nbgh,\n",
    "                                        fill_value=fill_value)\n",
    "    \n",
    "    # reassign the interpolated gaps in the original array, record the interpolation with\n",
    "    #   a status flag value\n",
    "    trg_dat[trg_gaps] = trg_gaps_dat\n",
    "    trg_flg[trg_gaps] = 32\n",
    "\n",
    "    ax = fig.add_subplot(1,3,3)\n",
    "    ax.imshow(trg_dat, interpolation='none', vmin=0, vmax=fill_value, cmap=cm.winter)\n",
    "    ax.set_title('AFTER GAP FILLING')\n",
    "    plt.show()\n",
    "    \n",
    "    # update the counter of missing data\n",
    "    nb_fill_value = (trg_dat==fill_value).sum()\n",
    "    gapfill_iter += 1\n",
    "    \n",
    "print(\"After {} remappings, there are {} gaps left.\".format(gapfill_iter, nb_fill_value))\n",
    "\n",
    "# These gaps we could not fill, turn them back to masked value, and record in the status_flag\n",
    "trg_gaps = (trg_dat==fill_value)\n",
    "trg_flg[trg_gaps] = 256\n",
    "trg_dat[trg_gaps] = np.ma.masked"
   ]
  },
  {
   "cell_type": "code",
   "execution_count": 121,
   "id": "0e7b013c",
   "metadata": {},
   "outputs": [],
   "source": [
    "# apply the resampled open water mask and threshold at > 100 and < 0\n",
    "trg_dat[(trg_flg & 4)==4] = 0\n",
    "trg_dat[trg_dat>100] = 100\n",
    "trg_dat[trg_dat<0] = 0"
   ]
  },
  {
   "cell_type": "markdown",
   "id": "a9edd9b3",
   "metadata": {},
   "source": [
    "## Some plots to check things look good in the target geometry"
   ]
  },
  {
   "cell_type": "code",
   "execution_count": 122,
   "id": "3ab548c3",
   "metadata": {},
   "outputs": [
    {
     "data": {
      "image/png": "[encoded data removed]",
      "text/plain": [
       "<Figure size 1200x600 with 2 Axes>"
      ]
     },
     "metadata": {},
     "output_type": "display_data"
    }
   ],
   "source": [
    "fig = plt.figure(figsize=(12,6))\n",
    "ax = fig.add_subplot(1,2,1)\n",
    "ax.imshow(trg_dat, interpolation='none',vmin=0, vmax=100, origin='lower')\n",
    "ax.set_xticks([])\n",
    "ax.set_yticks([])\n",
    "ax.set_title('{} {}'.format(dt, src_id))\n",
    "ax = fig.add_subplot(1,2,2)\n",
    "ax.imshow(trg_flg, interpolation='none', origin='lower')\n",
    "ax.set_xticks([])\n",
    "ax.set_yticks([])\n",
    "plt.show()"
   ]
  },
  {
   "cell_type": "markdown",
   "id": "4716d91a",
   "metadata": {},
   "source": [
    "## Prepare a netCDF file with the resampled field\n",
    "\n",
    "We first prepare an xarray dataset, then write it to netCDF. We start from the template of the \"ice_conc\" variable in the source file and transfer variables and dimensions from the target file."
   ]
  },
  {
   "cell_type": "code",
   "execution_count": 123,
   "id": "4db638f5",
   "metadata": {},
   "outputs": [
    {
     "name": "stdout",
     "output_type": "stream",
     "text": [
      "TARGET:  <xarray.Dataset> Size: 44MB\n",
      "Dimensions:    (longitude: 1440, latitude: 721)\n",
      "Coordinates:\n",
      "  * longitude  (longitude) float32 6kB 0.0 0.25 0.5 0.75 ... 359.2 359.5 359.8\n",
      "  * latitude   (latitude) float32 3kB 90.0 89.75 89.5 ... -89.5 -89.75 -90.0\n",
      "    time       int32 4B 1086960\n",
      "Data variables: (12/18)\n",
      "    u10        (latitude, longitude) int16 2MB ...\n",
      "    v10        (latitude, longitude) int16 2MB ...\n",
      "    t2m        (latitude, longitude) int16 2MB ...\n",
      "    cvh        (latitude, longitude) int16 2MB ...\n",
      "    istl1      (latitude, longitude) int16 2MB ...\n",
      "    cl         (latitude, longitude) int16 2MB ...\n",
      "    ...         ...\n",
      "    skt        (latitude, longitude) int16 2MB ...\n",
      "    sd         (latitude, longitude) int16 2MB ...\n",
      "    slt        (latitude, longitude) int16 2MB ...\n",
      "    tcsw       (latitude, longitude) int16 2MB ...\n",
      "    swvl1      (latitude, longitude) int16 2MB ...\n",
      "    lm         (latitude, longitude) float64 8MB ...\n",
      "Attributes:\n",
      "    Conventions:  CF-1.6\n",
      "    history:      Fri Jun 21 16:36:23 2024: ncap2 -s lm=lsm+cl Downloads/era5...\n",
      "    NCO:          netCDF Operators version 5.0.6 (Homepage = http://nco.sf.ne...\n",
      "\n",
      "SOURCE:  <xarray.Dataset> Size: 3MB\n",
      "Dimensions:                 (time: 1, xc: 432, yc: 432, nv: 2)\n",
      "Coordinates:\n",
      "  * time                    (time) float64 8B 1.04e+09\n",
      "  * xc                      (xc) float64 3kB -5.388e+03 -5.362e+03 ... 5.388e+03\n",
      "  * yc                      (yc) float64 3kB 5.388e+03 5.362e+03 ... -5.388e+03\n",
      "    lat                     (yc, xc) float32 746kB ...\n",
      "    lon                     (yc, xc) float32 746kB ...\n",
      "Dimensions without coordinates: nv\n",
      "Data variables:\n",
      "    Lambert_Azimuthal_Grid  int32 4B ...\n",
      "    time_bnds               (time, nv) float64 16B ...\n",
      "    ice_conc                (time, yc, xc) int32 746kB ...\n",
      "    raw_ice_conc_values     (time, yc, xc) int32 746kB ...\n",
      "    status_flag             (time, yc, xc) int16 373kB ...\n",
      "Attributes: (12/43)\n",
      "    title:                     Monthly Sea Ice Concentration Climate Data Rec...\n",
      "    summary:                   This climate data record of sea ice concentrat...\n",
      "    topiccategory:             Oceans ClimatologyMeteorologyAtmosphere\n",
      "    geospatial_lat_min:        -90.0\n",
      "    geospatial_lat_max:        -16.62393\n",
      "    geospatial_lon_min:        -180.0\n",
      "    ...                        ...\n",
      "    algorithm:                 SICCI3LF (19V, 37V, 37H)\n",
      "    references:                Product User Manual v3 (2022),Algorithm Theore...\n",
      "    contributor_name:          Thomas Lavergne,Atle Soerensen,Rasmus Tonboe,C...\n",
      "    contributor_role:          PrincipalInvestigator,author,author,author,aut...\n",
      "    source:                    FCDR of SMMR / SSMI / SSMIS Brightness Tempera...\n",
      "    product_status:            released\n",
      "\n",
      "{'title': 'Monthly Sea Ice Concentration Climate Data Record Version 3 (SMMR, SSM/I, and SSMIS) from the EUMETSAT OSI SAF', 'summary': 'This climate data record of sea ice concentration is obtained from coarse resolution passive microwave satellite data (SMMR, SSM/I, and SSMIS) over the polar regions (Arctic and Antarctic). The processing chain features: 1) dynamic tuning of tie-points and algorithms,  2) correction of atmospheric noise using a Radiative Transfer Model,  3) computation of per-pixel uncertainties, and 4) an optimal hybrid sea ice concentration algorithm. This dataset was generated by the EUMETSAT Ocean and Sea Ice Satellite Application Facility (OSI SAF). The ESA CCI Programme contributed with Research and Development on the algorithms.', 'topiccategory': 'Oceans ClimatologyMeteorologyAtmosphere', 'geospatial_lat_min': -90.0, 'geospatial_lat_max': -16.62393, 'geospatial_lon_min': -180.0, 'geospatial_lon_max': 180.0, 'geospatial_vertical_min': 0.0, 'geospatial_vertical_max': 0.0, 'sensor': 'SMMR,SSM/I,SSMIS', 'platform': 'Nimbus-7,DMSP-F<08,10,11,13,14,15>,DMSP-F<16,17,18>', 'time_coverage_start': '2010-12-01T00:00:00Z', 'time_coverage_end': '2011-01-01T00:00:00Z', 'time_coverage_duration': 'P1M', 'time_coverage_resolution': 'P1M', 'project': 'OSI SAF - EUMETSAT', 'institution': 'OSISAF - EUMETSAT', 'creator_name': 'OSISAF - EUMETSAT', 'creator_type': 'institution', 'creator_url': 'https://osi-saf.eumetsat.int/', 'creator_email': 'osi-saf.helpdesk@meteo.fr', 'license': \"All intellectual property rights of the Ocean and Sea Ice SAF products belong to EUMETSAT. The use of these products is granted to every user, free of charge. If users wish to use these products, EUMETSAT's copyright credit must be shown by displaying the words 'Copyright EUMETSAT' under each of the products shown. EUMETSAT offers no warranty and accepts no liability in respect of the Ocean and Sea Ice SAF products. EUMETSAT neither commits to nor guarantees the continuity, availability, or quality or suitability for any purpose of, the Ocean and Sea Ice SAF products.\", 'history': '2023-03-20T13:39:18Z creation', 'date_created': '2023-03-20', 'cdm_data_type': 'Grid', 'spatial_resolution': '25.0 km grid spacing', 'geospatial_bounds_crs': 'EPSG:6932', 'product_version': '3.0', 'tracking_id': '972e1144-5b4f-4137-86a1-3563ebb3b2d0', 'naming_authority': 'int.eumetsat', 'standard_name_vocabulary': 'CF Standard Name Table (Version 78, 21 September 2021)', 'product_id': 'osi-450-a', 'product_name': 'osi_saf_sea_ice_conc_climate_data_record_smmrssmissmis', 'doi': '10.15770/EUM_SAF_OSI_0013', 'keywords': 'GCMDSK:Earth Science > Cryosphere > Sea Ice > Sea Ice Concentration, GCMDSK:Earth Science > Oceans > Sea Ice > Sea Ice Concentration, GCMDSK:Earth Science > Climate Indicators > Cryospheric Indicators > Sea Ice Concentration, GCMDLOC:Geographic Region > Southern Hemisphere, GCMDLOC:Vertical Location > Sea Surface, GCMDPROV: Government Agencies-non-US > Norway > NO/MET > Norwegian Meteorological Institute', 'keywords_vocabulary': 'GCMDSK:GCMD Science Keywords:https://gcmd.earthdata.nasa.gov/kms/concepts/concept_scheme/sciencekeywords, GCMDPROV:GCMD Providers:https://gcmd.earthdata.nasa.gov/kms/concepts/concept_scheme/providers, GCMDLOC:GCMD Locations:https://gcmd.earthdata.nasa.gov/kms/concepts/concept_scheme/locations', 'Conventions': 'CF-1.7,ACDD-1.3', 'algorithm': 'SICCI3LF (19V, 37V, 37H)', 'references': 'Product User Manual v3 (2022),Algorithm Theoretical Basis Document v3 (2022),Validation Report v3 (2022),https://osi-saf.eumetsat.int/products/osi-450-a', 'contributor_name': 'Thomas Lavergne,Atle Soerensen,Rasmus Tonboe,Courtenay Strong,Matilde Kreiner,Roberto Saldo,Anton Birkedal,Fabrizio Baordo,Trygve Aspenes,Steinar Eastwood', 'contributor_role': 'PrincipalInvestigator,author,author,author,author,author,author,author,author,author', 'source': 'FCDR of SMMR / SSMI / SSMIS Brightness Temperatures R4 from EUMETSAT Climate Monitoring SAF (doi:10.5676/EUM_SAF_CM/FCDR_MWI/V004), ERA5', 'product_status': 'released'}\n"
     ]
    }
   ],
   "source": [
    "trg_ds = xr.open_dataset(lmask_file, mask_and_scale=False, decode_times=False).isel(time=0)\n",
    "src_ds = xr.open_dataset(src_file, mask_and_scale=False, decode_times=False)\n",
    "\n",
    "print(\"TARGET: \", trg_ds)\n",
    "print()\n",
    "\n",
    "print(\"SOURCE: \", src_ds)\n",
    "print()\n",
    "\n",
    "print(src_ds.attrs)"
   ]
  },
  {
   "cell_type": "code",
   "execution_count": 124,
   "id": "60ed4e4b-fa06-42ca-bb49-d6d7ea54b7bd",
   "metadata": {},
   "outputs": [
    {
     "name": "stdout",
     "output_type": "stream",
     "text": [
      "<xarray.Dataset> Size: 3MB\n",
      "Dimensions:      (time: 1, lat: 360, lon: 720, nv: 2)\n",
      "Coordinates:\n",
      "  * time         (time) float64 8B 1.04e+09\n",
      "  * lat          (lat) float64 3kB -89.75 -89.25 -88.75 ... 88.75 89.25 89.75\n",
      "  * lon          (lon) float64 6kB -179.8 -179.2 -178.8 ... 178.8 179.2 179.8\n",
      "Dimensions without coordinates: nv\n",
      "Data variables:\n",
      "    ice_conc     (time, lat, lon) float64 2MB nan nan nan ... 98.52 98.52 98.52\n",
      "    status_flag  (time, lat, lon) int16 518kB 1 1 1 1 1 1 1 1 ... 0 0 0 0 0 0 0\n",
      "    time_bnds    (time, nv) float64 16B 1.039e+09 1.041e+09\n",
      "    lat_bnds     (lat, nv) float64 6kB -90.0 -89.5 -89.5 ... 89.5 89.5 90.0\n",
      "    lon_bnds     (lon, nv) float64 12kB -180.0 -179.5 -179.5 ... 179.5 180.0\n",
      "Attributes: (12/40)\n",
      "    title:                     Regridded Monthly Sea Ice Concentration Climat...\n",
      "    summary:                   This climate data record of sea ice concentrat...\n",
      "    topiccategory:             Oceans ClimatologyMeteorologyAtmosphere\n",
      "    geospatial_lat_min:        -90.0\n",
      "    geospatial_lat_max:        90.0\n",
      "    geospatial_lon_min:        -180.0\n",
      "    ...                        ...\n",
      "    algorithm:                 SICCI3LF (19V, 37V, 37H)\n",
      "    references:                Product User Manual v3 (2022),Algorithm Theore...\n",
      "    contributor_name:          Thomas Lavergne,Atle Soerensen,Rasmus Tonboe,C...\n",
      "    contributor_role:          PrincipalInvestigator,author,author,author,aut...\n",
      "    source:                    FCDR of SMMR / SSMI / SSMIS Brightness Tempera...\n",
      "    product_status:            released\n"
     ]
    }
   ],
   "source": [
    "# Prepare coordinates:\n",
    "out_coords = {'time': src_ds['time'],\n",
    "              'lat': trg_lat_1d,\n",
    "              'lon': trg_lon_1d}\n",
    "\n",
    "# Prepare the (global) attributes\n",
    "out_attrs = src_ds.attrs\n",
    "\n",
    "# Prepare the data variables\n",
    "out_dims = out_coords.keys()\n",
    "out_dat={'ice_conc':( out_dims, trg_dat[None,:,:], \\\n",
    "                     {a: src_ds['ice_conc'].attrs[a] for a in ('standard_name', 'long_name', 'comment', 'units', )}),\n",
    "         'status_flag': ( out_dims, trg_flg[None,:,:], \\\n",
    "                     {a: src_ds['status_flag'].attrs[a] for a in ('standard_name', 'long_name', 'comment', 'valid_min', 'valid_max', \\\n",
    "                                                               'flag_masks', 'flag_meanings', 'flag_descriptions')}),\n",
    "         'time_bnds':( src_ds['time_bnds'].dims, src_ds['time_bnds'].to_numpy(), None),\n",
    "         'lat_bnds':( ('lat', 'nv'), trg_lat_1d_bnds, None),\n",
    "         'lon_bnds':( ('lon', 'nv'), trg_lon_1d_bnds, None)\n",
    "        }\n",
    "\n",
    "# Create the output xarray dataset from the above elements\n",
    "out_ds = xr.Dataset(out_dat, out_coords, out_attrs)\n",
    "\n",
    "# Work on the encoding of the fields for writing to netCDF4\n",
    "\n",
    "out_ds.lat.attrs = {\n",
    "    \"bounds\": \"lat_bnds\",\n",
    "    \"units\": \"degrees_north\",\n",
    "    \"axis\": \"Y\",\n",
    "    \"long_name\": \"Latitude\",\n",
    "    \"standard_name\": \"latitude\"\n",
    "}\n",
    "\n",
    "out_ds.lon.attrs = {\n",
    "    \"bounds\": \"lon_bnds\",\n",
    "    \"units\": \"degrees_east\",\n",
    "    \"axis\": \"X\",\n",
    "    \"long_name\": \"Longitude\",\n",
    "    \"standard_name\": \"longitude\"\n",
    "}\n",
    "\n",
    "# global attributes\n",
    "out_ds.attrs['title'] = \"Regridded \" + out_ds.attrs['title']\n",
    "\n",
    "# below would be better handled if we had accessed to an AreaDefinition object\n",
    "out_ds.attrs['geospatial_lat_min'] = -90.\n",
    "out_ds.attrs['geospatial_lat_max'] = +90.\n",
    "out_ds.attrs['geospatial_lon_min'] = -180.\n",
    "out_ds.attrs['geospatial_lon_max'] = +180.\n",
    "out_ds.attrs['spatial_resolution'] = '{} degrees'.format(resol)\n",
    "del out_ds.attrs['geospatial_bounds_crs']\n",
    "\n",
    "now = datetime.utcnow().replace(microsecond=0)\n",
    "out_ds.attrs['history'] = now.isoformat()+'Z' + ' regridding to LAT/LON' + '\\n' + out_ds.attrs['history']\n",
    "out_ds.attrs['date_created'] = now.date().isoformat()\n",
    "out_ds.attrs['tracking_id'] = str(uuid.uuid4())\n",
    "for a in ('doi', 'id', 'naming_authority'):\n",
    "    try:\n",
    "        del out_ds.attrs[a]\n",
    "    except:\n",
    "        pass\n",
    "\n",
    "# encoding\n",
    "encoding = {'ice_conc': {'_FillValue': -999.},\n",
    "            'status_flag': {'dtype':src_ds['status_flag'].dtype, '_FillValue':-1},\n",
    "            'time': {'_FillValue':None}, 'time_bnds': {'_FillValue':None},\n",
    "            'lat': {'_FillValue':None}, 'lon': {'_FillValue':None},\n",
    "            'lat_bnds': {'_FillValue':None}, 'lon_bnds': {'_FillValue':None},}\n",
    "\n",
    "for v in encoding.keys():\n",
    "    encoding[v]['zlib']=True\n",
    "\n",
    "print(out_ds)"
   ]
  },
  {
   "cell_type": "code",
   "execution_count": 125,
   "id": "6b73c62d",
   "metadata": {},
   "outputs": [
    {
     "name": "stdout",
     "output_type": "stream",
     "text": [
      "./ice_conc_glb_latlon-050deg_cdr-v3p0_201012.nc is ready.\n"
     ]
    }
   ],
   "source": [
    "# Write to netCDF file\n",
    "\n",
    "out_n = os.path.basename(src_files[0])\n",
    "out_n = out_n.replace('_nh_ease2-250_', '_glb_latlon-{:03d}deg_'.format(int(resol*100)))\n",
    "out_n = os.path.join(outdir, out_n)\n",
    "\n",
    "if os.path.exists(out_n):\n",
    "    os.remove(out_n)\n",
    "\n",
    "out_ds.to_netcdf(out_n, encoding=encoding, format='NETCDF4_CLASSIC', unlimited_dims='time')\n",
    "print(out_n + \" is ready.\")"
   ]
  },
  {
   "cell_type": "code",
   "execution_count": null,
   "id": "1edc5f2b",
   "metadata": {},
   "outputs": [],
   "source": []
  },
  {
   "cell_type": "code",
   "execution_count": null,
   "id": "a0f6c369-fcff-4d5a-8883-55a3739488ae",
   "metadata": {},
   "outputs": [],
   "source": []
  },
  {
   "cell_type": "code",
   "execution_count": null,
   "id": "78739567-4b85-4079-b4d3-bd2c5237844a",
   "metadata": {},
   "outputs": [],
   "source": []
  }
 ],
 "metadata": {
  "celltoolbar": "Tags",
  "kernelspec": {
   "display_name": "Python 3 (ipykernel)",
   "language": "python",
   "name": "python3"
  },
  "language_info": {
   "codemirror_mode": {
    "name": "ipython",
    "version": 3
   },
   "file_extension": ".py",
   "mimetype": "text/x-python",
   "name": "python",
   "nbconvert_exporter": "python",
   "pygments_lexer": "ipython3",
   "version": "3.11.9"
  }
 },
 "nbformat": 4,
 "nbformat_minor": 5
}
