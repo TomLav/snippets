{
 "cells": [
  {
   "cell_type": "markdown",
   "metadata": {},
   "source": [
    "# Pseudo-biases with vector velocities"
   ]
  },
  {
   "cell_type": "markdown",
   "metadata": {},
   "source": [
    "Investigate pseudo-biases in vector velocity / magnitude data. Pseudo-biases are biases that are not characteristigs of the observations, but arise from the non-linear transformation from vector components to vector velocity / magnitude.\n",
    "\n",
    "Consider a vector field with components $(dX,dY)$. The true vector ield is $T=(tX,tY)$, with observations $O=(oX,oY)$. $oX$ (resp. $oY$) are un-biased observations of $tX$ (resp. $tY$) with uncertainties $uX$ and $uY$.\n",
    "\n",
    "We will see that, despite $oX$ and $oY$ being un-biased observations, the observed velocity $oV = \\sqrt{oX^2+oY^2}$ is biased *wrt* the true velocity $tV = \\sqrt{tX^2+tY^2}$.\n",
    "\n",
    "Inspired / adapted from Appendix B of Stoffelen (1998).\n",
    "\n",
    "Stoffelen, A. (1998), Toward the true near-surface wind speed: Error modeling and calibration using triple collocation, J. Geophys. Res., 103( C4), 7755– 7766, doi:10.1029/97JC03180."
   ]
  },
  {
   "cell_type": "code",
   "execution_count": 1,
   "metadata": {},
   "outputs": [],
   "source": [
    "import numpy as np\n",
    "from numpy.random import default_rng\n",
    "from matplotlib import pylab as plt\n",
    "import matplotlib.lines as mlines\n",
    "\n",
    "import matplotlib.pyplot as plt\n",
    "plt.rcParams.update({'font.size': 18})"
   ]
  },
  {
   "cell_type": "code",
   "execution_count": 2,
   "metadata": {},
   "outputs": [],
   "source": [
    "rng = default_rng()\n",
    "N = 5000\n",
    "\n",
    "def velocity(dX, dY):\n",
    "    return (dX**2 + dY**2)**0.5"
   ]
  },
  {
   "cell_type": "markdown",
   "metadata": {},
   "source": [
    "## Illustration of the pseudo-bias\n",
    "\n",
    "Define the (unknown) truth for $dX$, $dY$, and velocity"
   ]
  },
  {
   "cell_type": "code",
   "execution_count": 3,
   "metadata": {},
   "outputs": [],
   "source": [
    "sig_t = 17.\n",
    "tX = rng.standard_normal(N) * sig_t + 5.4\n",
    "tY = rng.standard_normal(N) * sig_t + 2.1\n",
    "tV = velocity(tX, tY)"
   ]
  },
  {
   "cell_type": "markdown",
   "metadata": {},
   "source": [
    "Define an un-biased observation of the truth, with uncertainties"
   ]
  },
  {
   "cell_type": "code",
   "execution_count": 4,
   "metadata": {},
   "outputs": [],
   "source": [
    "# uncertain observations of dX\n",
    "sig_ux = 10\n",
    "ux = rng.standard_normal(N) * sig_ux\n",
    "oX = tX + ux\n",
    "\n",
    "# uncertain observations of dY\n",
    "sig_uy = 10\n",
    "uy = rng.standard_normal(N) * sig_uy\n",
    "oY = tY + uy\n",
    "\n",
    "# observation of the velocity (derived from oX and oY)\n",
    "oV = velocity(oX, oY)"
   ]
  },
  {
   "cell_type": "code",
   "execution_count": 5,
   "metadata": {},
   "outputs": [
    {
     "data": {
      "image/png": "[encoded data removed]",
      "text/plain": [
       "<Figure size 864x432 with 3 Axes>"
      ]
     },
     "metadata": {
      "needs_background": "light"
     },
     "output_type": "display_data"
    }
   ],
   "source": [
    "\n",
    "def plot_hist(ax, d, w, maxu):\n",
    "    ax.hist(d, bins=21)\n",
    "    ax.set_xlabel(w + r\" $(O-T)$\")\n",
    "    ax.set_xlim(-maxu,+maxu)\n",
    "    ax.axvline(x=0, color='k', ls=':', lw=2)\n",
    "    bias = d.mean()\n",
    "    rmse = d.std()\n",
    "    ax.axvline(x=bias, color='C1', ls='-', lw=3)\n",
    "    fs = 14\n",
    "    ystep = 0.05\n",
    "    ystart = 0.95\n",
    "    ax.text(0.05,ystart,'bias={:+.2f}'.format(bias),transform=ax.transAxes, fontsize=fs, color='C1'); ystart -= ystep\n",
    "    ax.text(0.05,ystart,'rmse={:.2f}'.format(rmse),transform=ax.transAxes, fontsize=fs); ystart -= ystep\n",
    "    \n",
    "maxu = 4*max(sig_ux,sig_uy)\n",
    "fig = plt.figure(figsize=(12,6))\n",
    "\n",
    "ax = fig.add_subplot(1,3,1)\n",
    "plot_hist(ax, oX - tX, r\"$dX$\", maxu)\n",
    "\n",
    "ax = fig.add_subplot(1,3,2,sharey=ax)\n",
    "plot_hist(ax, oY - tY, r\"$dY$\", maxu)\n",
    "plt.setp(ax.get_yticklabels(), visible=False)\n",
    "\n",
    "ax = fig.add_subplot(1,3,3,sharey=ax)\n",
    "plot_hist(ax, oV - tV, r\"$\\sqrt{dX^2+dY^2}$\", maxu)\n",
    "plt.setp(ax.get_yticklabels(), visible=False)\n",
    "\n",
    "plt.subplots_adjust(wspace=0.05)\n",
    "plt.show()"
   ]
  },
  {
   "cell_type": "markdown",
   "metadata": {},
   "source": [
    "We see that, despite  $oX$  and  $oY$  are un-biased observations of $tX$ and $tY$, the resulting observed velocity $oV$ (computed from $oX$ and $oY$) is biased *wrt* the true velocity $tV$."
   ]
  },
  {
   "cell_type": "markdown",
   "metadata": {},
   "source": [
    "## Implication for trend analysis"
   ]
  },
  {
   "cell_type": "markdown",
   "metadata": {},
   "source": [
    "Create an artificial timeseries of $tX$ and $tY$, with some trends. $tX$ and $tY$ are the mean values of two distributions whose standard deviation $\\sigma_t$ stays constant."
   ]
  },
  {
   "cell_type": "code",
   "execution_count": 6,
   "metadata": {},
   "outputs": [],
   "source": [
    "years = np.arange(1979,2021).astype('int')\n",
    "aX = np.ones(len(years)) * (years - years[0]) * 0.05 + 0.5\n",
    "aY = np.ones(len(years)) * (years - years[0]) * 0.09 - 1.0"
   ]
  },
  {
   "cell_type": "markdown",
   "metadata": {},
   "source": [
    "Consider an un-biased obsevation system with uncertainties that improve in two jumps (e.g. better technologies). The uncertainty is the same for $dX$ and $dY$. "
   ]
  },
  {
   "cell_type": "code",
   "execution_count": 7,
   "metadata": {},
   "outputs": [],
   "source": [
    "sig_os = 4 * np.ones(len(years))\n",
    "sig_os[(years>=1987)*(years<2002)]  = 3\n",
    "sig_os[(years>=2002)]  = 2"
   ]
  },
  {
   "cell_type": "markdown",
   "metadata": {},
   "source": [
    "Go through the years, simulate true and observed distribution of the components, then compute the velocities, finally compute the yearly averaged values of all these quantities."
   ]
  },
  {
   "cell_type": "code",
   "execution_count": 8,
   "metadata": {},
   "outputs": [],
   "source": [
    "tX = np.zeros(len(years))\n",
    "tY = np.zeros(len(years))\n",
    "tV = np.zeros(len(years))\n",
    "oX = np.zeros(len(years))\n",
    "oY = np.zeros(len(years))\n",
    "oV = np.zeros(len(years))\n",
    "for y in range(len(years)):\n",
    "    # distribution of tXs and tYs\n",
    "    tXs = rng.standard_normal(N) * 4 + aX[y]\n",
    "    tYs = rng.standard_normal(N) * 4 + aY[y]\n",
    "    # corresponding tVs\n",
    "    tVs = velocity(tXs, tYs)\n",
    "    # simulate the oXs and oYs\n",
    "    ux = rng.standard_normal(N) * sig_os[y]\n",
    "    oXs = tXs + ux\n",
    "    uy = rng.standard_normal(N) * sig_os[y]\n",
    "    oYs = tYs + uy\n",
    "    #corresponding oVs\n",
    "    oVs = velocity(oXs, oYs)\n",
    "    # extract yearly averages\n",
    "    tX[y] = tXs.mean()\n",
    "    tY[y] = tYs.mean()\n",
    "    tV[y] = tVs.mean()\n",
    "    oX[y] = oXs.mean()\n",
    "    oY[y] = oYs.mean()\n",
    "    oV[y] = oVs.mean()\n",
    "\n",
    "from scipy.stats import linregress\n",
    "alpha_tV, beta_tV, _, _, _ = linregress(years, tV)\n",
    "alpha_oV, beta_oV, _, _, _ = linregress(years, oV)"
   ]
  },
  {
   "cell_type": "markdown",
   "metadata": {},
   "source": [
    "Plotting"
   ]
  },
  {
   "cell_type": "code",
   "execution_count": 9,
   "metadata": {},
   "outputs": [
    {
     "data": {
      "image/png": "[encoded data removed]",
      "text/plain": [
       "<Figure size 720x360 with 1 Axes>"
      ]
     },
     "metadata": {
      "needs_background": "light"
     },
     "output_type": "display_data"
    }
   ],
   "source": [
    "fig = plt.figure(figsize=(10,5))\n",
    "ax = fig.add_subplot(1,1,1)\n",
    "\n",
    "ax.plot(years, tX, label='X', c='C0', lw=2)\n",
    "ax.plot(years, oX, c='C0', lw=2, ls='--')\n",
    "ax.plot(years, aX, c='C0', ls=':' )\n",
    "\n",
    "ax.plot(years, tY, label='Y', c='C1', lw=2)\n",
    "ax.plot(years, oY, c='C1', lw=2, ls='--')\n",
    "ax.plot(years, aY, c='C1', ls=':' )\n",
    "\n",
    "ax.plot(years, tV, 'k-', label='V', lw=2)\n",
    "ax.plot(years, oV, 'k--', lw=2)\n",
    "ax.plot(years, alpha_tV*years + beta_tV, 'k:', lw=1)\n",
    "ax.plot(years, alpha_oV*years + beta_oV, 'k:', lw=1)\n",
    "\n",
    "ax.axhline(y=0, color='k', ls='-')\n",
    "\n",
    "line1 = mlines.Line2D([], [], color='k', ls = '-', label='t (truth)')\n",
    "line2 = mlines.Line2D([], [], color='k', ls = '--', label='o (obs)')\n",
    "line3 = mlines.Line2D([], [], color='k', ls = ':', label='trends')\n",
    "sec_leg = ax.legend(handles=[line1,line2,line3], loc='lower right')\n",
    "ax.add_artist(sec_leg,)\n",
    "\n",
    "ax.set_ylabel('Components and Velocity')\n",
    "ax.legend(loc='center left')\n",
    "plt.show()"
   ]
  },
  {
   "cell_type": "markdown",
   "metadata": {},
   "source": [
    "We observe that the $oX$ and $oY$ follow $tX$ and $tY$: they are un-biased observations of the truth and follow the actual trends.\n",
    "\n",
    "Converserly, $oV$ is very different from $tV$. First, we observe that $oV$ is systematically larger than $tV$, which is due to the pseudo-bias following the propagation of the observation uncertainty in the non-linear transform from the components to the velocity.\n",
    "\n",
    "In addition, we observe jumps in $oV$. These jumps correspond to the changing observation uncertainties along the timeseries (e.g. technological improvements with better satellites). Note that these jumps are not visible in $oX$ and $oY$: they do not impact the mean observed value (since the observations of components remain un-biased).\n",
    "\n",
    "The jumps in $oV$ even result in an overall negative trend in observed velocity while the trend of the true velocity is positive.\n",
    "\n",
    "## Conclusion\n",
    "Be cautious with velocities (and generally non-linear transforms) in case of observational uncertainties: they introduce pseudo-biases, jumps in timeseries, and can result in erroneous trends. Always first compare vector timeseries in terms of their components."
   ]
  },
  {
   "cell_type": "markdown",
   "metadata": {},
   "source": [
    "## Some thoughts from Andreas\n",
    "\n",
    "I tried to find an analytical solution to the pseudo-bias, but did not find a quick solution. If looking at the bias (expectation value $E[]$ of the difference in observed and true values) in **squared** velocities, it looks much nicer, maybe this somehow useful/inspires somthing? Disclaimer: this might well be full of misstakes.\n",
    "\n",
    "$E[oV^2-tV^2] = E[oX^2+oY^2-tX^2-tY^2] = E[tX^2+2tXuX+uX^2+tY^2+2tYuY+uY^2 - tX^2-tY^2]=E[2tXuX+uX^2+2tYuY+uY^2]$\n",
    "\n",
    "If the uncerenties are independent of the real flow: $E[tXuX]=E[tX]E[uX]$ and since $uX$ unbiased, $E[uX]=0$\n",
    "\n",
    "In addition $E[uX^2]=VAR(uX)=\\sigma_{ux}^2$\n",
    "\n",
    "Hence $E[oV^2-tV^2]=\\sigma_{ux}^2+\\sigma_{uy}^2$\n",
    "\n",
    "I am a bit supprised that this is completely independent of the true/background flow, but can not say exactly why.\n",
    "\n",
    "The potential use of this is that you can estimate the pseudo bias in the mean squared velocity if you know the measurement uncertainty (as illustrated in the code below, where I used this information to remove the bias). For illustration I plot the sqrt of the bias-corrected mean squared velocities to get everything in the same plot/units, but it should not be confused with the mean velocity I think. \n"
   ]
  },
  {
   "cell_type": "code",
   "execution_count": null,
   "metadata": {},
   "outputs": [],
   "source": [
    "tX = np.zeros(len(years))\n",
    "tY = np.zeros(len(years))\n",
    "tV = np.zeros(len(years))\n",
    "tV2 = np.zeros(len(years))\n",
    "oX = np.zeros(len(years))\n",
    "oY = np.zeros(len(years))\n",
    "oV = np.zeros(len(years))\n",
    "oV2 = np.zeros(len(years))\n",
    "for y in range(len(years)):\n",
    "    # distribution of tXs and tYs\n",
    "    tXs = rng.standard_normal(N) * 4. + aX[y]\n",
    "    tYs = rng.standard_normal(N) * 4. + aY[y]\n",
    "    # corresponding tVs\n",
    "    tVs = velocity(tXs, tYs)\n",
    "    # simulate the oXs and oYs\n",
    "    ux = rng.standard_normal(N) * sig_os[y]\n",
    "    oXs = tXs + ux\n",
    "    uy = rng.standard_normal(N) * sig_os[y]\n",
    "    oYs = tYs + uy\n",
    "    #corresponding oVs\n",
    "    oVs = velocity(oXs, oYs)\n",
    "    #oVs2= velocitysqu(oXs, oYs)\n",
    "    # extract yearly averages\n",
    "    tX[y] = tXs.mean()\n",
    "    tY[y] = tYs.mean()\n",
    "    tV[y] = tVs.mean()\n",
    "    tV2[y]=np.square(tVs).mean()\n",
    "    oX[y] = oXs.mean()\n",
    "    oY[y] = oYs.mean()\n",
    "    oV[y] = oVs.mean()\n",
    "    oV2[y]= np.square(oVs).mean()\n",
    "\n",
    "from scipy.stats import linregress\n",
    "alpha_tV, beta_tV, _, _, _ = linregress(years, tV)\n",
    "alpha_oV, beta_oV, _, _, _ = linregress(years, oV)\n",
    "\n",
    "\n",
    "fig = plt.figure(figsize=(10,5))\n",
    "ax = fig.add_subplot(1,1,1)\n",
    "\n",
    "ax.plot(years, tX, label='X', c='C0', lw=2)\n",
    "ax.plot(years, oX, c='C0', lw=2, ls='--')\n",
    "ax.plot(years, aX, c='C0', ls=':' )\n",
    "\n",
    "ax.plot(years, tY, label='Y', c='C1', lw=2)\n",
    "ax.plot(years, oY, c='C1', lw=2, ls='--')\n",
    "ax.plot(years, aY, c='C1', ls=':' )\n",
    "\n",
    "ax.plot(years, tV, 'k-', label='V', lw=2)\n",
    "ax.plot(years, oV, 'k--', lw=2)\n",
    "ax.plot(years, (oV2-2*sig_os**2)**0.5, 'k-.', lw=2)#-var(uX)-var(uY) = bias correction\n",
    "ax.plot(years, alpha_tV*years + beta_tV, 'k:', lw=1)\n",
    "ax.plot(years, alpha_oV*years + beta_oV, 'k:', lw=1)\n",
    "\n",
    "ax.axhline(y=0, color='k', ls='-')\n",
    "\n",
    "line1 = mlines.Line2D([], [], color='k', ls = '-', label='t (truth)')\n",
    "line2 = mlines.Line2D([], [], color='k', ls = '--', label='o (obs)')\n",
    "line3 = mlines.Line2D([], [], color='k', ls = ':', label='trends')\n",
    "sec_leg = ax.legend(handles=[line1,line2,line3], loc='lower right')\n",
    "ax.add_artist(sec_leg,)\n",
    "\n",
    "ax.set_ylabel('Components and Velocity')\n",
    "ax.legend(loc='center left')\n",
    "plt.show()\n"
   ]
  }
 ],
 "metadata": {
  "kernelspec": {
   "display_name": "Python 3 (ipykernel)",
   "language": "python",
   "name": "python3"
  },
  "language_info": {
   "codemirror_mode": {
    "name": "ipython",
    "version": 3
   },
   "file_extension": ".py",
   "mimetype": "text/x-python",
   "name": "python",
   "nbconvert_exporter": "python",
   "pygments_lexer": "ipython3",
   "version": "3.9.13"
  }
 },
 "nbformat": 4,
 "nbformat_minor": 4
}
